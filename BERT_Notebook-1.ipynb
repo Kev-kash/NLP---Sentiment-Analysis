{
 "cells": [
  {
   "cell_type": "code",
   "execution_count": null,
   "id": "AX4j1L8XKw6w",
   "metadata": {
    "colab": {
     "base_uri": "https://localhost:8080/"
    },
    "id": "AX4j1L8XKw6w",
    "outputId": "a3011e8c-7db1-401a-b611-28b8f75a47c3"
   },
   "outputs": [
    {
     "name": "stdout",
     "output_type": "stream",
     "text": [
      "Mounted at /content/drive/\n"
     ]
    }
   ],
   "source": [
    "from google.colab import drive\n",
    "drive.mount('/content/drive/')"
   ]
  },
  {
   "cell_type": "markdown",
   "id": "b1f74a38",
   "metadata": {},
   "source": [
    "### Python Libraries"
   ]
  },
  {
   "cell_type": "code",
   "execution_count": null,
   "id": "e497b614-92fd-4a33-a966-f39f1df7fd91",
   "metadata": {
    "id": "e497b614-92fd-4a33-a966-f39f1df7fd91"
   },
   "outputs": [],
   "source": [
    "import os\n",
    "import time\n",
    "import pandas as pd\n",
    "import matplotlib.pyplot as plt\n",
    "import tensorflow as tf\n",
    "from transformers import BertTokenizer, TFBertForSequenceClassification\n",
    "from sklearn.model_selection import train_test_split\n",
    "from tensorflow.keras.callbacks import EarlyStopping, ModelCheckpoint\n",
    "from sklearn.metrics import confusion_matrix, classification_report\n",
    "%matplotlib inline\n",
    "import numpy as np\n",
    "import seaborn as sns\n",
    "import re\n",
    "from sklearn.utils.class_weight import compute_class_weight\n",
    "from imblearn.over_sampling import RandomOverSampler\n",
    "from sklearn.metrics import roc_curve, auc"
   ]
  },
  {
   "cell_type": "code",
   "execution_count": null,
   "id": "rtAMQAH_baa-",
   "metadata": {
    "id": "rtAMQAH_baa-"
   },
   "outputs": [],
   "source": [
    "#Initilizing the time function\n",
    "start_time = time.time()"
   ]
  },
  {
   "cell_type": "markdown",
   "id": "48bba896",
   "metadata": {},
   "source": [
    "#### BERT Model Setup for Sentiment Analysis\n",
    "\n",
    "This process begins by connecting to a TPU (Tensor Processing Unit) provided by Google Colab, which will significantly accelerate the training of the model.I then load our dataset, check for missing values, and visualize the distribution of sentiment labels to understand the balance of our classes."
   ]
  },
  {
   "cell_type": "code",
   "execution_count": null,
   "id": "YMZ4QFWnKzni",
   "metadata": {
    "id": "YMZ4QFWnKzni"
   },
   "outputs": [],
   "source": [
    "# Connectting to the TPU\n",
    "resolver = tf.distribute.cluster_resolver.TPUClusterResolver(tpu='grpc://' + os.environ['COLAB_TPU_ADDR'])\n",
    "tf.config.experimental_connect_to_cluster(resolver)\n",
    "tf.tpu.experimental.initialize_tpu_system(resolver)\n",
    "tpu_strategy = tf.distribute.TPUStrategy(resolver)"
   ]
  },
  {
   "cell_type": "code",
   "execution_count": null,
   "id": "b5421559-5d6d-4966-a321-6501c4b88c1d",
   "metadata": {
    "colab": {
     "base_uri": "https://localhost:8080/"
    },
    "id": "b5421559-5d6d-4966-a321-6501c4b88c1d",
    "outputId": "b5635902-225e-4d9b-9e2d-53eeff53bab2"
   },
   "outputs": [
    {
     "name": "stderr",
     "output_type": "stream",
     "text": [
      "<ipython-input-5-f7df47d0c4c8>:1: DtypeWarning: Columns (4) have mixed types. Specify dtype option on import or set low_memory=False.\n",
      "  df_bert_1 = pd.read_csv('/content/drive/MyDrive/BERT SCRIPT/Original_Data.csv')\n"
     ]
    },
    {
     "name": "stdout",
     "output_type": "stream",
     "text": [
      "business                  0\n",
      "review_title              0\n",
      "date_of_experience        0\n",
      "review_date               0\n",
      "review_rating         28470\n",
      "review_text               0\n",
      "page_number               2\n",
      "review_text_length        2\n",
      "sentiment_polarity        2\n",
      "sentiment_label           2\n",
      "review_year               2\n",
      "dtype: int64\n"
     ]
    }
   ],
   "source": [
    "df_bert_1 = pd.read_csv('/content/drive/MyDrive/BERT SCRIPT/Original_Data.csv')\n",
    "\n",
    "# Checking for NaN values\n",
    "nan_in_data = df_bert_1.isna().sum()\n",
    "print(nan_in_data)"
   ]
  },
  {
   "cell_type": "code",
   "execution_count": null,
   "id": "BK4_GCDsa9Fd",
   "metadata": {
    "id": "BK4_GCDsa9Fd"
   },
   "outputs": [],
   "source": [
    "df_bert_1.drop('review_rating', axis=1, inplace=True)\n",
    "df_bert_1.dropna(inplace=True)"
   ]
  },
  {
   "cell_type": "code",
   "execution_count": null,
   "id": "iAWGNXnBbcMi",
   "metadata": {
    "colab": {
     "base_uri": "https://localhost:8080/"
    },
    "id": "iAWGNXnBbcMi",
    "outputId": "58b1231c-df5b-4749-d6fb-08750c6576b5"
   },
   "outputs": [
    {
     "name": "stdout",
     "output_type": "stream",
     "text": [
      "business              0\n",
      "review_title          0\n",
      "date_of_experience    0\n",
      "review_date           0\n",
      "review_text           0\n",
      "page_number           0\n",
      "review_text_length    0\n",
      "sentiment_polarity    0\n",
      "sentiment_label       0\n",
      "review_year           0\n",
      "dtype: int64\n"
     ]
    }
   ],
   "source": [
    "# Checking for NaN values\n",
    "nan_in_data = df_bert_1.isna().sum()\n",
    "print(nan_in_data)"
   ]
  },
  {
   "cell_type": "code",
   "execution_count": null,
   "id": "8df8e66a",
   "metadata": {
    "colab": {
     "base_uri": "https://localhost:8080/",
     "height": 520
    },
    "id": "8df8e66a",
    "outputId": "edca22fb-4422-44c5-c15e-a299d089bec4"
   },
   "outputs": [
    {
     "data": {
      "image/png": "[encoded data removed]",
      "text/plain": [
       "<Figure size 640x480 with 1 Axes>"
      ]
     },
     "metadata": {},
     "output_type": "display_data"
    }
   ],
   "source": [
    "# Plotting to check data balance\n",
    "class_counts = df_bert_1['sentiment_label'].value_counts()\n",
    "class_counts.plot(kind='bar')\n",
    "plt.title('Distribution of Sentiment Labels')\n",
    "plt.xlabel('Sentiment Label')\n",
    "plt.ylabel('Frequency')\n",
    "plt.show()"
   ]
  },
  {
   "cell_type": "markdown",
   "id": "65e28893",
   "metadata": {},
   "source": [
    "#### Preparing Data for BERT Training\n",
    "To train the BERT model, I organized the data into training and validation sets using a random split, reserving 30% of the data for validation. Given the class imbalance in the dataset, I applied oversampling to the training data to ensure that the model doesn't become biased towards the majority class.\n",
    "\n",
    "After resampling, I plotted the distribution of sentiment labels to confirm that the classes are now balanced. I then proceeded to encode the text data into a format suitable for BERT, which involves tokenization and attention mask generation. Each text review is truncated or padded to a maximum length of 512 tokens to meet BERT's input specifications.\n",
    "\n",
    "With the text converted into BERT's input format, I created TensorFlow datasets that will feed data into the model in batches during training, ensuring efficient use of memory and processing power."
   ]
  },
  {
   "cell_type": "code",
   "execution_count": null,
   "id": "5f86d133",
   "metadata": {
    "id": "5f86d133"
   },
   "outputs": [],
   "source": [
    "# Splitting the data into training and validation sets\n",
    "train_df, val_df = train_test_split(df_bert_1, test_size=0.3, random_state=42)"
   ]
  },
  {
   "cell_type": "code",
   "execution_count": null,
   "id": "7w7mGjnsODil",
   "metadata": {
    "id": "7w7mGjnsODil"
   },
   "outputs": [],
   "source": [
    "# Resampling the training data\n",
    "ros = RandomOverSampler(random_state=42)\n",
    "train_df_resampled, train_labels_resampled = ros.fit_resample(train_df[['review_text']], train_df['sentiment_label'])"
   ]
  },
  {
   "cell_type": "code",
   "execution_count": null,
   "id": "--IzLOt-T57y",
   "metadata": {
    "colab": {
     "base_uri": "https://localhost:8080/",
     "height": 472
    },
    "id": "--IzLOt-T57y",
    "outputId": "52817dd2-4252-457c-a1d9-ac66b7a869b8"
   },
   "outputs": [
    {
     "data": {
      "image/png": "[encoded data removed]",
      "text/plain": [
       "<Figure size 640x480 with 1 Axes>"
      ]
     },
     "metadata": {},
     "output_type": "display_data"
    }
   ],
   "source": [
    "# Assuming train_labels_resampled contains the resampled labels\n",
    "label_counts = pd.Series(train_labels_resampled).value_counts()\n",
    "\n",
    "# Plot the distribution\n",
    "label_counts.plot(kind='bar')\n",
    "plt.title('Distribution of Sentiment Labels After Resampling')\n",
    "plt.xlabel('Sentiment Label')\n",
    "plt.ylabel('Frequency')\n",
    "plt.xticks(ticks=[0, 1, 2], labels=['Negative', 'Neutral', 'Positive'], rotation=0)  # Adjust the labels as per your dataset\n",
    "plt.show()"
   ]
  },
  {
   "cell_type": "code",
   "execution_count": null,
   "id": "8ityI5mXNlAP",
   "metadata": {
    "colab": {
     "base_uri": "https://localhost:8080/",
     "height": 145,
     "referenced_widgets": [
      "1794db84e92a47149980cc77df6a4b69",
      "d9b4af8bfae74a0f85d29806c72b611b",
      "b087e7f2f2404c4da737907378213b73",
      "72704de1c135464dada4145c8803164e",
      "3ba8772ca9934d6086549c2ca07c2bf6",
      "bf6d15ead2ec4661b4ed9bdb8e3e065a",
      "130e2b5cbeb34f3abbd59b50be981003",
      "e7e35e3012eb4cb1b93b5aee54f0fc5d",
      "b4ca0784f3ab439b9da4937754d53a88",
      "34a1c46d81b043b6891192400ef373c1",
      "3e136cb473ba4a318b5df2b79eec9571",
      "eb8cf0055f7443feb2a8aaa80c5f9a62",
      "34c8c1910c8e4390965355aa56b0febd",
      "db3c23939a9942bbb7be31df68be516a",
      "cc722f1d2a54496696b6c6e51e7639b2",
      "1bd03243acbd4815a2d1969f7e2d1818",
      "f3aca9570a214a16b6c9e55bec44e011",
      "736cd74fb5b3456a969bd31eb3135dc3",
      "67240e85fea0401fa74ce6e1e0e37340",
      "62d8c7ddd20b441e83b8536cd796093f",
      "8f451a99fd8c4f868b3a6aa7337a60cc",
      "a5d17709f41a4825884e3b04783c92d5",
      "7010d26dca7546d69c5b458ff82ae7eb",
      "9e7b076e9db342abb7b9dfd573ba31a3",
      "80106707ddc9415f9f8c5af5715093c1",
      "e994414a7f9a4ab8990ac0b15605b207",
      "946c5f5cba5e448ba088aa2ff7b5cb32",
      "205d58cdf4fe4c13aaa15909fa197e0a",
      "52197a177e914540b8ce03e8cc75e970",
      "46e3e2d646ec41d188d1ec0ec7e46e89",
      "d97c89eb0e8f400583b5476aac11df80",
      "8f716e70451749c1938ce461a84c7923",
      "793eee980a3e4d99b58da68a4ec98dea",
      "eb813d6179f94260833ccd222ec37eb3",
      "9655fe00de054d12bdd9faa763559c25",
      "6e40301e04cb475bb00909b61497627f",
      "2f7b88b1c37c4ca083e091ff2df609e2",
      "e5fb1c2f2dd14fbe992b10c718f094c9",
      "d59ceb8037bc4201a3fa4a9964afcaec",
      "6b411dc787324fc7bdc36aa9640cb607",
      "4b824ef600e341bd97c30946b216da76",
      "ec1e523217834d13a67f6b08f776b6bc",
      "43bc2c003a7849ff95a955cbe5e33050",
      "30da2f7f868c43daab6567aed04fd0ab"
     ]
    },
    "id": "8ityI5mXNlAP",
    "outputId": "1a7e366b-b2b0-4be2-c6b4-e574c6284a63"
   },
   "outputs": [
    {
     "data": {
      "application/vnd.jupyter.widget-view+json": {
       "model_id": "1794db84e92a47149980cc77df6a4b69",
       "version_major": 2,
       "version_minor": 0
      },
      "text/plain": [
       "tokenizer_config.json:   0%|          | 0.00/28.0 [00:00<?, ?B/s]"
      ]
     },
     "metadata": {},
     "output_type": "display_data"
    },
    {
     "data": {
      "application/vnd.jupyter.widget-view+json": {
       "model_id": "eb8cf0055f7443feb2a8aaa80c5f9a62",
       "version_major": 2,
       "version_minor": 0
      },
      "text/plain": [
       "vocab.txt:   0%|          | 0.00/232k [00:00<?, ?B/s]"
      ]
     },
     "metadata": {},
     "output_type": "display_data"
    },
    {
     "data": {
      "application/vnd.jupyter.widget-view+json": {
       "model_id": "7010d26dca7546d69c5b458ff82ae7eb",
       "version_major": 2,
       "version_minor": 0
      },
      "text/plain": [
       "tokenizer.json:   0%|          | 0.00/466k [00:00<?, ?B/s]"
      ]
     },
     "metadata": {},
     "output_type": "display_data"
    },
    {
     "data": {
      "application/vnd.jupyter.widget-view+json": {
       "model_id": "eb813d6179f94260833ccd222ec37eb3",
       "version_major": 2,
       "version_minor": 0
      },
      "text/plain": [
       "config.json:   0%|          | 0.00/570 [00:00<?, ?B/s]"
      ]
     },
     "metadata": {},
     "output_type": "display_data"
    }
   ],
   "source": [
    "# Defining tokenizer \n",
    "tokenizer = BertTokenizer.from_pretrained('bert-base-uncased')"
   ]
  },
  {
   "cell_type": "code",
   "execution_count": null,
   "id": "nI0f4KPcI5IT",
   "metadata": {
    "id": "nI0f4KPcI5IT"
   },
   "outputs": [],
   "source": [
    "# Function to convert examples to BERT features\n",
    "def convert_example_to_feature(review, label):\n",
    "    # Encode the text using the BERT tokenizer\n",
    "    encoding = tokenizer.encode_plus(\n",
    "        review, add_special_tokens=True, max_length=512, truncation=True,\n",
    "        padding='max_length', return_attention_mask=True\n",
    "    )\n",
    "    # Converts label to int and return a dictionary with the encoded features and label\n",
    "    return {\n",
    "        'input_ids': encoding['input_ids'],\n",
    "        'attention_mask': encoding['attention_mask'],\n",
    "        'label': label\n",
    "    }"
   ]
  },
  {
   "cell_type": "code",
   "execution_count": null,
   "id": "4FIfBXE6xxnd",
   "metadata": {
    "id": "4FIfBXE6xxnd"
   },
   "outputs": [],
   "source": [
    "sentiment_label_mapping = {'Negative': 0, 'Neutral': 1, 'Positive': 2}\n",
    "\n",
    "# Mapping the labels to integers\n",
    "train_labels_resampled_int = train_labels_resampled.map(sentiment_label_mapping)\n",
    "val_labels_int = val_df['sentiment_label'].map(sentiment_label_mapping)"
   ]
  },
  {
   "cell_type": "code",
   "execution_count": null,
   "id": "BzyLsUXFEONJ",
   "metadata": {
    "id": "BzyLsUXFEONJ"
   },
   "outputs": [],
   "source": [
    "# Converting the training and validation data into features with integer labels\n",
    "train_features = [convert_example_to_feature(text, label) for text, label in zip(train_df_resampled['review_text'], train_labels_resampled_int)]\n",
    "val_features = [convert_example_to_feature(text, label) for text, label in zip(val_df['review_text'], val_labels_int)]"
   ]
  },
  {
   "cell_type": "code",
   "execution_count": null,
   "id": "V4drrdMtham1",
   "metadata": {
    "id": "V4drrdMtham1"
   },
   "outputs": [],
   "source": [
    "#This function structures the data into a format that is compatible with BERT models in TensorFlow.\n",
    "def map_features_to_model_inputs(features):\n",
    "    # Initialize dictionaries to store input IDs and attention masks, and a list for labels\n",
    "    inputs = {'input_ids': [], 'attention_mask': []}\n",
    "    labels = []\n",
    "    \n",
    "     # Iterate over each feature in the provided list\n",
    "    for feature in features:\n",
    "        # Append the input ID and attention mask of each feature to the respective dictionary lists\n",
    "        inputs['input_ids'].append(feature['input_ids'])\n",
    "        inputs['attention_mask'].append(feature['attention_mask'])\n",
    "        \n",
    "         # Append the label of each feature to the labels list\n",
    "        labels.append(feature['label'])\n",
    "        \n",
    "        \n",
    "    # Return the structured data: input IDs, attention masks, and labels\n",
    "    return (inputs, labels)"
   ]
  },
  {
   "cell_type": "code",
   "execution_count": null,
   "id": "FqsKduO-hVxu",
   "metadata": {
    "id": "FqsKduO-hVxu"
   },
   "outputs": [],
   "source": [
    "# Convert features to model input format\n",
    "train_inputs, train_labels = map_features_to_model_inputs(train_features)\n",
    "val_inputs, val_labels = map_features_to_model_inputs(val_features)"
   ]
  },
  {
   "cell_type": "code",
   "execution_count": null,
   "id": "K-y0WByKLqql",
   "metadata": {
    "id": "K-y0WByKLqql"
   },
   "outputs": [],
   "source": [
    "# Create TensorFlow datasets\n",
    "train_dataset = tf.data.Dataset.from_tensor_slices((train_inputs, train_labels)).shuffle(100).batch(32).prefetch(tf.data.experimental.AUTOTUNE)\n",
    "val_dataset = tf.data.Dataset.from_tensor_slices((val_inputs, val_labels)).batch(32).prefetch(tf.data.experimental.AUTOTUNE)"
   ]
  },
  {
   "cell_type": "markdown",
   "id": "0a530089",
   "metadata": {},
   "source": [
    "#### Training the BERT Model\n",
    "\n",
    "The model is instantiated and compiled within the scope of a TPU strategy to leverage the high computational power of TPUs, which significantly speeds up training. The BERT model is fine-tuned for a three-class classification task, corresponding to the sentiment labels in the dataset.\n",
    "\n",
    "I used a combination of ModelCheckpoint and EarlyStopping callbacks during training. The ModelCheckpoint saves the best model weights based on the validation loss, allowing me to restore the best model state post-training. EarlyStopping is employed to halt training if the validation loss does not improve after a specified number of epochs, preventing overfitting.\n",
    "\n",
    "Post-training, I save the model's structure and weights separately transferred the files to Google Drive for storage.\n",
    "\n",
    "Finally, I plotted the learning curves for both accuracy and loss."
   ]
  },
  {
   "cell_type": "code",
   "execution_count": null,
   "id": "2TMps4CbL4SM",
   "metadata": {
    "colab": {
     "base_uri": "https://localhost:8080/",
     "height": 396,
     "referenced_widgets": [
      "d302faba2f6749e690ec7318105e78b0",
      "f1e0f139d7e04d8c8490ede3bc78be4b",
      "4457e01331b343819da3ac9d083e510f",
      "fbaaffaa1467489b909b7a6ca2e62de5",
      "5e6c0ba16a394e788b5c7d8cffd61592",
      "5aa543727571445c9d9e52cf89fe98c9",
      "b22380587bb140809a4a7f6a93764b68",
      "e3352ad4fb604b579fd4f9d8e875d661",
      "9b7d1d6572ac41f7aea6b9ce2a892e81",
      "d25fdbd667444b30832a24def3243b89",
      "128dadd0ef18409a96cf99169911a5c4"
     ]
    },
    "id": "2TMps4CbL4SM",
    "outputId": "257d91c2-7d4b-411f-84f4-8fd495ddac37"
   },
   "outputs": [
    {
     "data": {
      "application/vnd.jupyter.widget-view+json": {
       "model_id": "d302faba2f6749e690ec7318105e78b0",
       "version_major": 2,
       "version_minor": 0
      },
      "text/plain": [
       "model.safetensors:   0%|          | 0.00/440M [00:00<?, ?B/s]"
      ]
     },
     "metadata": {},
     "output_type": "display_data"
    },
    {
     "name": "stderr",
     "output_type": "stream",
     "text": [
      "All PyTorch model weights were used when initializing TFBertForSequenceClassification.\n",
      "\n",
      "Some weights or buffers of the TF 2.0 model TFBertForSequenceClassification were not initialized from the PyTorch model and are newly initialized: ['classifier.weight', 'classifier.bias']\n",
      "You should probably TRAIN this model on a down-stream task to be able to use it for predictions and inference.\n"
     ]
    },
    {
     "name": "stdout",
     "output_type": "stream",
     "text": [
      "Epoch 1/4\n",
      "12848/12848 [==============================] - ETA: 0s - loss: 0.0704 - accuracy: 0.9742\n",
      "Epoch 1: val_loss improved from inf to 9.46529, saving model to /tmp/bert_best_weights.h5\n",
      "12848/12848 [==============================] - 2237s 168ms/step - loss: 0.0704 - accuracy: 0.9742 - val_loss: 9.4653 - val_accuracy: 0.1900\n",
      "Epoch 2/4\n",
      "12848/12848 [==============================] - ETA: 0s - loss: 0.0495 - accuracy: 0.9828\n",
      "Epoch 2: val_loss improved from 9.46529 to 9.28018, saving model to /tmp/bert_best_weights.h5\n",
      "12848/12848 [==============================] - 2146s 167ms/step - loss: 0.0495 - accuracy: 0.9828 - val_loss: 9.2802 - val_accuracy: 0.1900\n",
      "Epoch 3/4\n",
      "12848/12848 [==============================] - ETA: 0s - loss: 0.0380 - accuracy: 0.9873\n",
      "Epoch 3: val_loss improved from 9.28018 to 8.00828, saving model to /tmp/bert_best_weights.h5\n",
      "12848/12848 [==============================] - 2141s 167ms/step - loss: 0.0380 - accuracy: 0.9873 - val_loss: 8.0083 - val_accuracy: 0.1900\n",
      "Epoch 4/4\n",
      "12848/12848 [==============================] - ETA: 0s - loss: 0.0307 - accuracy: 0.9897\n",
      "Epoch 4: val_loss improved from 8.00828 to 7.89810, saving model to /tmp/bert_best_weights.h5\n",
      "12848/12848 [==============================] - 2148s 167ms/step - loss: 0.0307 - accuracy: 0.9897 - val_loss: 7.8981 - val_accuracy: 0.2266\n"
     ]
    }
   ],
   "source": [
    "with tpu_strategy.scope():\n",
    "    model = TFBertForSequenceClassification.from_pretrained('bert-base-uncased', num_labels=3)\n",
    "    model.compile(optimizer=tf.keras.optimizers.Adam(learning_rate=3e-5, epsilon=1e-08),\n",
    "                  loss=tf.keras.losses.SparseCategoricalCrossentropy(from_logits=True),\n",
    "                  metrics=[tf.keras.metrics.SparseCategoricalAccuracy('accuracy')])\n",
    "\n",
    "\n",
    "# Defining ModelCheckpoint and EarlyStopping\n",
    "\n",
    "early_stopping = EarlyStopping(monitor='val_loss', patience=2, verbose=1)\n",
    "\n",
    "# ModelCheckpoint to save only weights\n",
    "model_checkpoint = ModelCheckpoint(\n",
    "    filepath='/tmp/bert_best_weights.h5',\n",
    "    monitor='val_loss',\n",
    "    save_best_only=True,\n",
    "    save_weights_only=True,\n",
    "    verbose=1\n",
    ")\n",
    "\n",
    "# Train the model\n",
    "history = model.fit(\n",
    "    train_dataset,\n",
    "    epochs=4,\n",
    "    validation_data=val_dataset,\n",
    "    callbacks=[model_checkpoint, early_stopping],\n",
    "    verbose=1\n",
    ")\n",
    "\n",
    "\n",
    "# After training, save the model structure and weights separately\n",
    "model_structure = model.to_json()\n",
    "with open(\"/tmp/bert_model_structure.json\", \"w\") as json_file:\n",
    "    json_file.write(model_structure)\n",
    "\n",
    "\n",
    "# Copy the saved weights and structure to Google Drive\n",
    "!cp /tmp/bert_best_weights.h5 \"/content/drive/My Drive/\"\n",
    "!cp /tmp/bert_model_structure.json \"/content/drive/My Drive/\""
   ]
  },
  {
   "cell_type": "code",
   "execution_count": null,
   "id": "kqqOsgBSv-Hj",
   "metadata": {
    "colab": {
     "base_uri": "https://localhost:8080/",
     "height": 407
    },
    "id": "kqqOsgBSv-Hj",
    "outputId": "cb08cd1d-c0c9-4765-b07d-dfc060f9c6fc"
   },
   "outputs": [
    {
     "data": {
      "image/png": "[encoded data removed]",
      "text/plain": [
       "<Figure size 1600x400 with 2 Axes>"
      ]
     },
     "metadata": {},
     "output_type": "display_data"
    }
   ],
   "source": [
    "# Plot learning curves\n",
    "plt.figure(figsize=(16, 4))  # Increase the width of the combined plot\n",
    "\n",
    "# Plot learning curves (accuracy)\n",
    "plt.subplot(1, 2, 1)  # 1 row, 2 columns, 1st subplot\n",
    "plt.plot(history.history['accuracy'], label='Train Accuracy')\n",
    "plt.plot(history.history['val_accuracy'], label='Validation Accuracy')\n",
    "plt.title('Model Accuracy')\n",
    "plt.ylabel('Accuracy')\n",
    "plt.xlabel('Epoch')\n",
    "plt.legend()\n",
    "\n",
    "# Plot learning curves (loss)\n",
    "plt.subplot(1, 2, 2)  # 1 row, 2 columns, 2nd subplot\n",
    "plt.plot(history.history['loss'], label='Train Loss')\n",
    "plt.plot(history.history['val_loss'], label='Validation Loss')\n",
    "plt.title('Model Loss')\n",
    "plt.ylabel('Loss')\n",
    "plt.xlabel('Epoch')\n",
    "plt.legend()\n",
    "\n",
    "plt.tight_layout()  # Adjust the layout\n",
    "plt.show()  # Display the combined plot"
   ]
  },
  {
   "cell_type": "markdown",
   "id": "FhGi-iRQMgIT",
   "metadata": {
    "id": "FhGi-iRQMgIT"
   },
   "source": [
    "#### Addressing Class Imbalance and overfitting observed\n",
    "\n",
    "I computed class weights which are used during the training of the BERT model to ensure that minority classes contribute more to the loss, balancing their influence on the model's learning process. Subsequently, i repeated all the other steps used for the previous training."
   ]
  },
  {
   "cell_type": "code",
   "execution_count": null,
   "id": "gg5ZYv-iMmM3",
   "metadata": {
    "id": "gg5ZYv-iMmM3"
   },
   "outputs": [],
   "source": [
    "# Calculate class weights\n",
    "class_weights = compute_class_weight(\n",
    "    class_weight='balanced',\n",
    "    classes=np.unique(df_bert_1['sentiment_label']),\n",
    "    y=df_bert_1['sentiment_label'].values\n",
    ")\n",
    "\n",
    "# Convert class_weights to a dictionary to pass it to Keras\n",
    "class_weight_dict = {i : class_weights[i] for i,label in enumerate(np.unique(df_bert_1['sentiment_label']))}\n"
   ]
  },
  {
   "cell_type": "code",
   "execution_count": null,
   "id": "FAFxVELRM9bf",
   "metadata": {
    "id": "FAFxVELRM9bf"
   },
   "outputs": [],
   "source": [
    "# Splitting the data into training and validation sets\n",
    "train_df_2, val_df_2 = train_test_split(df_bert_1, test_size=0.3, random_state=42)"
   ]
  },
  {
   "cell_type": "code",
   "execution_count": null,
   "id": "HHMpPBZyQhQZ",
   "metadata": {
    "id": "HHMpPBZyQhQZ"
   },
   "outputs": [],
   "source": [
    "train_df_2['sentiment_label'] = train_df_2['sentiment_label'].map(sentiment_label_mapping)\n",
    "val_df_2['sentiment_label'] = val_df_2['sentiment_label'].map(sentiment_label_mapping)"
   ]
  },
  {
   "cell_type": "code",
   "execution_count": null,
   "id": "B144MrTeQhS6",
   "metadata": {
    "id": "B144MrTeQhS6"
   },
   "outputs": [],
   "source": [
    "# Preparing features for input\n",
    "train_features_2 = [convert_example_to_feature(text, label) for text, label in zip(train_df_2['review_text'], train_df_2['sentiment_label'])]\n",
    "val_features_2 =[convert_example_to_feature(text, label) for text, label in zip(val_df_2['review_text'], val_df_2['sentiment_label'])]"
   ]
  },
  {
   "cell_type": "code",
   "execution_count": null,
   "id": "2sH-2RWUQhVi",
   "metadata": {
    "id": "2sH-2RWUQhVi"
   },
   "outputs": [],
   "source": [
    "train_inputs_2, train_labels_2 = map_features_to_model_inputs(train_features_2)\n",
    "val_inputs_2, val_labels_2 = map_features_to_model_inputs(val_features_2)"
   ]
  },
  {
   "cell_type": "code",
   "execution_count": null,
   "id": "bOk8mkx2QhYB",
   "metadata": {
    "id": "bOk8mkx2QhYB"
   },
   "outputs": [],
   "source": [
    "# Creating TensorFlow datasets\n",
    "train_dataset_2 = tf.data.Dataset.from_tensor_slices((train_inputs_2, train_labels_2)).shuffle(100).batch(32).prefetch(tf.data.experimental.AUTOTUNE)\n",
    "val_datase_2 = tf.data.Dataset.from_tensor_slices((val_inputs_2, val_labels_2)).batch(32).prefetch(tf.data.experimental.AUTOTUNE)"
   ]
  },
  {
   "cell_type": "code",
   "execution_count": null,
   "id": "Q4MXoQDiQhaR",
   "metadata": {
    "colab": {
     "base_uri": "https://localhost:8080/"
    },
    "id": "Q4MXoQDiQhaR",
    "outputId": "0c613c33-5752-4202-8988-4fbc99a1f794"
   },
   "outputs": [
    {
     "name": "stderr",
     "output_type": "stream",
     "text": [
      "All PyTorch model weights were used when initializing TFBertForSequenceClassification.\n",
      "\n",
      "Some weights or buffers of the TF 2.0 model TFBertForSequenceClassification were not initialized from the PyTorch model and are newly initialized: ['classifier.weight', 'classifier.bias']\n",
      "You should probably TRAIN this model on a down-stream task to be able to use it for predictions and inference.\n"
     ]
    },
    {
     "name": "stdout",
     "output_type": "stream",
     "text": [
      "Epoch 1/4\n",
      "5686/5686 [==============================] - ETA: 0s - loss: 0.2801 - accuracy: 0.9170\n",
      "Epoch 1: val_loss improved from inf to 0.13035, saving model to /tmp/bert_best_weights.h5\n",
      "5686/5686 [==============================] - 1146s 188ms/step - loss: 0.2801 - accuracy: 0.9170 - val_loss: 0.1303 - val_accuracy: 0.9538\n",
      "Epoch 2/4\n",
      "5686/5686 [==============================] - ETA: 0s - loss: 0.1543 - accuracy: 0.9521\n",
      "Epoch 2: val_loss did not improve from 0.13035\n",
      "5686/5686 [==============================] - 1022s 180ms/step - loss: 0.1543 - accuracy: 0.9521 - val_loss: 0.1421 - val_accuracy: 0.9494\n",
      "Epoch 3/4\n",
      "5686/5686 [==============================] - ETA: 0s - loss: 0.1156 - accuracy: 0.9625\n",
      "Epoch 3: val_loss improved from 0.13035 to 0.10601, saving model to /tmp/bert_best_weights.h5\n",
      "5686/5686 [==============================] - 1023s 180ms/step - loss: 0.1156 - accuracy: 0.9625 - val_loss: 0.1060 - val_accuracy: 0.9633\n",
      "Epoch 4/4\n",
      "5686/5686 [==============================] - ETA: 0s - loss: 0.0894 - accuracy: 0.9694\n",
      "Epoch 4: val_loss did not improve from 0.10601\n",
      "5686/5686 [==============================] - 1022s 180ms/step - loss: 0.0894 - accuracy: 0.9694 - val_loss: 0.1163 - val_accuracy: 0.9610\n"
     ]
    }
   ],
   "source": [
    "# Clearing the TensorFlow session\n",
    "tf.keras.backend.clear_session()\n",
    "\n",
    "# Define the BERT model\n",
    "with tpu_strategy.scope():  \n",
    "    model = TFBertForSequenceClassification.from_pretrained('bert-base-uncased', num_labels=3)\n",
    "    model.compile(optimizer=tf.keras.optimizers.Adam(learning_rate=3e-5, epsilon=1e-08),\n",
    "                  loss=tf.keras.losses.SparseCategoricalCrossentropy(from_logits=True),\n",
    "                  metrics=[tf.keras.metrics.SparseCategoricalAccuracy('accuracy')])\n",
    "\n",
    "# Defining callbacks for early stopping and model checkpointing\n",
    "early_stopping_1 = EarlyStopping(monitor='val_loss', patience=2, verbose=1)\n",
    "model_checkpoint_1 = ModelCheckpoint(filepath='/tmp/bert_best_weights.h5', monitor='val_loss', save_best_only=True, save_weights_only=True, verbose=1)\n",
    "\n",
    "# Training the model with class weights\n",
    "history_1 = model.fit(train_dataset_2, epochs=4, validation_data=val_datase_2, callbacks=[model_checkpoint_1, early_stopping_1], class_weight=class_weight_dict, verbose=1)\n",
    "\n",
    "model_structure_1 = model.to_json()\n",
    "with open(\"/tmp/bert_model_structure.json\", \"w\") as json_file:\n",
    "    json_file.write(model_structure)\n",
    "\n",
    "# Save the weights\n",
    "model.save_weights('/tmp/bert_best_weights.h5')\n",
    "\n",
    "# Copy the saved weights and structure to Google Drive\n",
    "!cp /tmp/bert_best_weights.h5 \"/content/drive/My Drive/\"\n",
    "!cp /tmp/bert_model_structure.json \"/content/drive/My Drive/\""
   ]
  },
  {
   "cell_type": "code",
   "execution_count": null,
   "id": "WUdX3_u5ljP7",
   "metadata": {
    "colab": {
     "base_uri": "https://localhost:8080/",
     "height": 407
    },
    "id": "WUdX3_u5ljP7",
    "outputId": "c879f774-e599-43f5-8724-af281cfc0daf"
   },
   "outputs": [
    {
     "data": {
      "image/png": "[encoded data removed]",
      "text/plain": [
       "<Figure size 1600x400 with 2 Axes>"
      ]
     },
     "metadata": {},
     "output_type": "display_data"
    }
   ],
   "source": [
    "# Plotting learning curves\n",
    "plt.figure(figsize=(16, 4)) \n",
    "\n",
    "# Plotting learning curves (accuracy)\n",
    "plt.subplot(1, 2, 1)  # 1 row, 2 columns, 1st subplot\n",
    "plt.plot(history_1.history['accuracy'], label='Train Accuracy')\n",
    "plt.plot(history_1.history['val_accuracy'], label='Validation Accuracy')\n",
    "plt.title('Model Accuracy')\n",
    "plt.ylabel('Accuracy')\n",
    "plt.xlabel('Epoch')\n",
    "plt.legend()\n",
    "\n",
    "# Plotting learning curves (loss)\n",
    "plt.subplot(1, 2, 2)  # 1 row, 2 columns, 2nd subplot\n",
    "plt.plot(history_1.history['loss'], label='Train Loss')\n",
    "plt.plot(history_1.history['val_loss'], label='Validation Loss')\n",
    "plt.title('Model Loss')\n",
    "plt.ylabel('Loss')\n",
    "plt.xlabel('Epoch')\n",
    "plt.legend()\n",
    "\n",
    "plt.tight_layout()  # Adjusting the layout\n",
    "plt.show()  # Displaying the combined plot"
   ]
  },
  {
   "cell_type": "markdown",
   "id": "9163966f",
   "metadata": {},
   "source": [
    "#### Model Evaluation and Performance Analysis\n",
    "\n",
    "After training the BERT model, I proceeded to evaluate its performance on the validation dataset. This step involves making predictions, comparing these predictions against the true labels, and analyzing the results through various metrics.\n",
    "\n",
    "I first used the model to predict sentiment labels for the validation set and then created a confusion matrix to visualize the model’s performance in correctly classifying each sentiment class. The confusion matrix provides a clear picture of the model’s strengths and weaknesses in classifying different classes.\n",
    "\n",
    "Next, I generated a classification report, which includes precision, recall, and F1-score for each class. This report gives a detailed understanding of the model's classification abilities.\n",
    "\n",
    "I also computed and plotted ROC (Receiver Operating Characteristic) curves and calculated the AUC (Area Under Curve) for each class as well as micro and macro averages. ROC curves are a powerful tool to assess the model's ability to distinguish between classes.\n",
    "\n",
    "Finally, I analyze the model’s training and validation accuracy over epochs and report the final training and validation accuracy. This analysis helps to understand the learning trajectory of the model and its performance stability."
   ]
  },
  {
   "cell_type": "code",
   "execution_count": null,
   "id": "Zum8M74T61NX",
   "metadata": {
    "colab": {
     "base_uri": "https://localhost:8080/",
     "height": 953
    },
    "id": "Zum8M74T61NX",
    "outputId": "689a32cb-113e-43e9-d215-75bed0f645a8"
   },
   "outputs": [
    {
     "name": "stdout",
     "output_type": "stream",
     "text": [
      "2437/2437 [==============================] - 147s 55ms/step\n"
     ]
    },
    {
     "name": "stderr",
     "output_type": "stream",
     "text": [
      "Exception ignored in: <function Executor.__del__ at 0x78c664e56a70>\n",
      "Traceback (most recent call last):\n",
      "  File \"/usr/local/lib/python3.10/dist-packages/tensorflow/python/eager/executor.py\", line 46, in __del__\n",
      "    self.wait()\n",
      "  File \"/usr/local/lib/python3.10/dist-packages/tensorflow/python/eager/executor.py\", line 65, in wait\n",
      "    pywrap_tfe.TFE_ExecutorWaitForAllPendingNodes(self._handle)\n",
      "tensorflow.python.framework.errors_impl.OutOfRangeError: End of sequence\n"
     ]
    },
    {
     "data": {
      "image/png": "[encoded data removed]",
      "text/plain": [
       "<Figure size 1000x700 with 1 Axes>"
      ]
     },
     "metadata": {},
     "output_type": "display_data"
    },
    {
     "name": "stdout",
     "output_type": "stream",
     "text": [
      "              precision    recall  f1-score   support\n",
      "\n",
      "    Negative       0.84      0.94      0.89      4359\n",
      "     Neutral       0.89      0.91      0.90     14816\n",
      "    Positive       0.99      0.98      0.98     58795\n",
      "\n",
      "    accuracy                           0.96     77970\n",
      "   macro avg       0.91      0.94      0.92     77970\n",
      "weighted avg       0.96      0.96      0.96     77970\n",
      "\n"
     ]
    }
   ],
   "source": [
    "# Make predictions\n",
    "val_pred_probabilities = model.predict(val_datase_2)\n",
    "val_preds = np.argmax(val_pred_probabilities.logits, axis=1)\n",
    "\n",
    "# True labels\n",
    "val_true = np.concatenate([y.numpy() for x, y in val_datase_2], axis=0)\n",
    "\n",
    "# Generate confusion matrix\n",
    "cm = confusion_matrix(val_true, val_preds)\n",
    "plt.figure(figsize=(10,7))\n",
    "sns.heatmap(cm, annot=True, fmt='g', vmin=0, cmap='Blues', cbar=False)\n",
    "plt.xlabel('Predicted Label')\n",
    "plt.ylabel('True Label')\n",
    "plt.title('Confusion Matrix')\n",
    "plt.show()\n",
    "\n",
    "# Generate classification report\n",
    "print(classification_report(val_true, val_preds, target_names=['Negative', 'Neutral', 'Positive']))\n"
   ]
  },
  {
   "cell_type": "code",
   "execution_count": null,
   "id": "lbTU9zJQ8LLc",
   "metadata": {
    "colab": {
     "base_uri": "https://localhost:8080/"
    },
    "id": "lbTU9zJQ8LLc",
    "outputId": "37f8e258-b7cd-4454-f30d-5e345287b156"
   },
   "outputs": [
    {
     "name": "stdout",
     "output_type": "stream",
     "text": [
      "Train Accuracy per epoch: [0.916961669921875, 0.9521129131317139, 0.9624521732330322, 0.9693779945373535]\n",
      "Validation Accuracy per epoch: [0.9537898898124695, 0.94941645860672, 0.9632679224014282, 0.9609978199005127]\n"
     ]
    }
   ],
   "source": [
    "# Accessing the history dictionary\n",
    "history_dict = history_1.history\n",
    "\n",
    "# Training accuracy per epoch\n",
    "train_acc = history_dict['accuracy']\n",
    "print(f'Train Accuracy per epoch: {train_acc}')\n",
    "\n",
    "# Validation accuracy per epoch\n",
    "val_acc = history_dict['val_accuracy']\n",
    "print(f'Validation Accuracy per epoch: {val_acc}')\n"
   ]
  },
  {
   "cell_type": "code",
   "execution_count": null,
   "id": "XujXrBxJ-mEm",
   "metadata": {
    "colab": {
     "base_uri": "https://localhost:8080/"
    },
    "id": "XujXrBxJ-mEm",
    "outputId": "d3de0b9e-4efd-4459-c4b2-03203af3b947"
   },
   "outputs": [
    {
     "name": "stdout",
     "output_type": "stream",
     "text": [
      "Final Train Accuracy: 0.9694\n",
      "Final Validation Accuracy: 0.9610\n"
     ]
    }
   ],
   "source": [
    "# Final training accuracy\n",
    "final_train_acc = train_acc[-1]\n",
    "print(f'Final Train Accuracy: {final_train_acc:.4f}')\n",
    "\n",
    "# Final validation accuracy\n",
    "final_val_acc = val_acc[-1]\n",
    "print(f'Final Validation Accuracy: {final_val_acc:.4f}')\n"
   ]
  },
  {
   "cell_type": "code",
   "execution_count": null,
   "id": "bv8H6kqDmUlA",
   "metadata": {
    "colab": {
     "base_uri": "https://localhost:8080/"
    },
    "id": "bv8H6kqDmUlA",
    "outputId": "0d17d7c1-2b9d-4057-f145-4c9a2f10c546"
   },
   "outputs": [
    {
     "name": "stderr",
     "output_type": "stream",
     "text": [
      "Exception ignored in: <function Executor.__del__ at 0x78c664e56a70>\n",
      "Traceback (most recent call last):\n",
      "  File \"/usr/local/lib/python3.10/dist-packages/tensorflow/python/eager/executor.py\", line 46, in __del__\n",
      "    self.wait()\n",
      "  File \"/usr/local/lib/python3.10/dist-packages/tensorflow/python/eager/executor.py\", line 65, in wait\n",
      "    pywrap_tfe.TFE_ExecutorWaitForAllPendingNodes(self._handle)\n",
      "tensorflow.python.framework.errors_impl.OutOfRangeError: End of sequence\n"
     ]
    },
    {
     "data": {
      "image/png": "[encoded data removed]",
      "text/plain": [
       "<Figure size 640x480 with 1 Axes>"
      ]
     },
     "metadata": {},
     "output_type": "display_data"
    }
   ],
   "source": [
    "y_prob = val_pred_probabilities.logits  # logits are the output probabilities\n",
    "\n",
    "# True labels\n",
    "val_true = np.concatenate([y.numpy() for x, y in val_datase_2], axis=0)\n",
    "y_true_one_hot = tf.one_hot(val_true, depth=3)  # 3 classes\n",
    "\n",
    "# Converting EagerTensor to NumPy array \n",
    "y_true_np = y_true_one_hot.numpy()\n",
    "\n",
    "# This code was modified from code obtained from https://stackoverflow.com/questions/45332410/roc-for-multiclass-classification\n",
    "\n",
    "# Compute ROC curve and ROC area for each class\n",
    "n_classes = 3\n",
    "fpr = dict()\n",
    "tpr = dict()\n",
    "roc_auc = dict()\n",
    "\n",
    "for i in range(n_classes):\n",
    "    fpr[i], tpr[i], _ = roc_curve(y_true_np[:, i], y_prob[:, i])\n",
    "    roc_auc[i] = auc(fpr[i], tpr[i])\n",
    "\n",
    "# Compute micro-average ROC curve and ROC area\n",
    "fpr[\"micro\"], tpr[\"micro\"], _ = roc_curve(y_true_np.ravel(), y_prob.ravel())\n",
    "roc_auc[\"micro\"] = auc(fpr[\"micro\"], tpr[\"micro\"])\n",
    "\n",
    "# Aggregate all false positive rates\n",
    "all_fpr = np.unique(np.concatenate([fpr[i] for i in range(n_classes)]))\n",
    "\n",
    "# Interpolating all ROC curves at these points\n",
    "mean_tpr = np.zeros_like(all_fpr)\n",
    "for i in range(n_classes):\n",
    "    mean_tpr += np.interp(all_fpr, fpr[i], tpr[i])\n",
    "\n",
    "# Averaging and computing AUC\n",
    "mean_tpr /= n_classes\n",
    "fpr[\"macro\"] = all_fpr\n",
    "tpr[\"macro\"] = mean_tpr\n",
    "roc_auc[\"macro\"] = auc(fpr[\"macro\"], tpr[\"macro\"])\n",
    "\n",
    "# Plot all ROC curves\n",
    "plt.figure()\n",
    "colors = ['blue', 'red', 'green']\n",
    "for i, color in zip(range(n_classes), colors):\n",
    "    plt.plot(fpr[i], tpr[i], color=color, lw=2,\n",
    "             label='ROC curve of class {0} (area = {1:0.2f})'\n",
    "             ''.format(i, roc_auc[i]))\n",
    "\n",
    "plt.plot(fpr[\"micro\"], tpr[\"micro\"],\n",
    "         label='micro-average ROC curve (area = {0:0.2f})'\n",
    "               ''.format(roc_auc[\"micro\"]),\n",
    "         color='deeppink', linestyle=':', linewidth=4)\n",
    "\n",
    "plt.plot(fpr[\"macro\"], tpr[\"macro\"],\n",
    "         label='macro-average ROC curve (area = {0:0.2f})'\n",
    "               ''.format(roc_auc[\"macro\"]),\n",
    "         color='navy', linestyle=':', linewidth=4)\n",
    "\n",
    "plt.plot([0, 1], [0, 1], 'k--', lw=2)\n",
    "plt.xlim([0.0, 1.0])\n",
    "plt.ylim([0.0, 1.05])\n",
    "plt.xlabel('False Positive Rate')\n",
    "plt.ylabel('True Positive Rate')\n",
    "plt.title('Multi-class ROC and AUC')\n",
    "plt.legend(loc=\"lower right\")\n",
    "plt.show()\n",
    "\n"
   ]
  },
  {
   "cell_type": "markdown",
   "id": "9fa62a02",
   "metadata": {},
   "source": [
    "#### Sentiment Analysis with BERT Model and Out-Of-Domain testing\n",
    "\n",
    "I utilized the fine-tuned BERT model to predict sentiments on both individual texts and a new dataset of hotel reviews. The process involved several steps: preprocessing text, converting it to BERT-compatible input format, making predictions, and analyzing these predictions.\n",
    "\n",
    "First, I defined a function  predict_sentiment to predict sentiment for standalone reviews. I then preprocessed the hotel reviews dataset, converted the reviews into BERT input features, and used the model to predict sentiments for all reviews in the dataset.\n",
    "\n",
    "After obtaining predictions, I compare the predicted sentiment labels with the actual sentiment derived from the review ratings. I used a confusion matrix and calculated the overall accuracy to evaluate the model's performance on this new dataset, offering insights into its generalizability and effectiveness in real-world scenarios."
   ]
  },
  {
   "cell_type": "code",
   "execution_count": null,
   "id": "kZc2C-EW-tPx",
   "metadata": {
    "id": "kZc2C-EW-tPx"
   },
   "outputs": [],
   "source": [
    "def predict_sentiment(text):\n",
    "    # Tokenize and preprocess the text\n",
    "    feature = convert_example_to_feature(text, label=0)  # label is not used here\n",
    "    input_dict = {\n",
    "        \"input_ids\": tf.constant([feature['input_ids']]),  # Wrap in list to match batch shape\n",
    "        \"attention_mask\": tf.constant([feature['attention_mask']])  # Wrap in list to match batch shape\n",
    "    }\n",
    "\n",
    "    # Make a prediction\n",
    "    predictions = model.predict(input_dict)\n",
    "    sentiment = tf.argmax(predictions.logits, axis=1).numpy()[0]  # Get the index of the max logit\n",
    "\n",
    "    # Map the prediction to the actual sentiment label\n",
    "    sentiment_mapping = {0: 'Negative', 1: 'Neutral', 2: 'Positive'}\n",
    "    return sentiment_mapping[sentiment]"
   ]
  },
  {
   "cell_type": "code",
   "execution_count": null,
   "id": "feymprGhALwU",
   "metadata": {
    "colab": {
     "base_uri": "https://localhost:8080/"
    },
    "id": "feymprGhALwU",
    "outputId": "dbef4330-6f39-4ea6-e38e-3176a2ec46bb",
    "scrolled": true
   },
   "outputs": [
    {
     "name": "stdout",
     "output_type": "stream",
     "text": [
      "1/1 [==============================] - 10s 10s/step\n",
      "Positive\n"
     ]
    }
   ],
   "source": [
    "print(predict_sentiment(\"This product was great!\"))"
   ]
  },
  {
   "cell_type": "code",
   "execution_count": null,
   "id": "JQ3W7GeHAL4-",
   "metadata": {
    "colab": {
     "base_uri": "https://localhost:8080/"
    },
    "id": "JQ3W7GeHAL4-",
    "outputId": "cf3ffbe8-2ba9-49d8-d3fa-abe8e73789a2"
   },
   "outputs": [
    {
     "name": "stdout",
     "output_type": "stream",
     "text": [
      "1/1 [==============================] - 1s 504ms/step\n",
      "Negative\n"
     ]
    }
   ],
   "source": [
    "print(predict_sentiment(\"It was a terrible experience using this product\"))"
   ]
  },
  {
   "cell_type": "code",
   "execution_count": null,
   "id": "-Zrf0WdyAd3c",
   "metadata": {
    "colab": {
     "base_uri": "https://localhost:8080/"
    },
    "id": "-Zrf0WdyAd3c",
    "outputId": "bf0f187c-8534-4ad3-a558-e7c8a0b49d94"
   },
   "outputs": [
    {
     "name": "stdout",
     "output_type": "stream",
     "text": [
      "1/1 [==============================] - 1s 505ms/step\n",
      "Neutral\n"
     ]
    }
   ],
   "source": [
    "print(predict_sentiment(\"I am sort of inbetween with regards to this product\"))"
   ]
  },
  {
   "cell_type": "code",
   "execution_count": null,
   "id": "k0XdH1qYAme9",
   "metadata": {
    "colab": {
     "base_uri": "https://localhost:8080/"
    },
    "id": "k0XdH1qYAme9",
    "outputId": "8ef447cc-5c27-4499-d51c-7cfb0a2271ce"
   },
   "outputs": [
    {
     "name": "stdout",
     "output_type": "stream",
     "text": [
      "1/1 [==============================] - 0s 500ms/step\n",
      "Neutral\n"
     ]
    }
   ],
   "source": [
    "print(predict_sentiment(\"I have some mixed feelings about this product\"))"
   ]
  },
  {
   "cell_type": "code",
   "execution_count": null,
   "id": "XQ6ujRHLAxmm",
   "metadata": {
    "colab": {
     "base_uri": "https://localhost:8080/"
    },
    "id": "XQ6ujRHLAxmm",
    "outputId": "6b65eee0-e33c-48cf-d3dd-b918f4e839f9"
   },
   "outputs": [
    {
     "name": "stdout",
     "output_type": "stream",
     "text": [
      "1/1 [==============================] - 1s 505ms/step\n",
      "Neutral\n"
     ]
    }
   ],
   "source": [
    "print(predict_sentiment(\"My mind is not fully made up on this yet.\"))"
   ]
  },
  {
   "cell_type": "code",
   "execution_count": null,
   "id": "z6xxtP76PDxp",
   "metadata": {
    "id": "z6xxtP76PDxp"
   },
   "outputs": [],
   "source": [
    "Hotel_df=pd.read_csv('/content/drive/MyDrive/BERT SCRIPT/Datafiniti_Hotel_Reviews_Jun19.csv')"
   ]
  },
  {
   "cell_type": "code",
   "execution_count": null,
   "id": "-vUcg_4OfGWG",
   "metadata": {
    "colab": {
     "base_uri": "https://localhost:8080/"
    },
    "id": "-vUcg_4OfGWG",
    "outputId": "0b657ddc-0d43-4b7b-d4f1-b63b6667d0d9"
   },
   "outputs": [
    {
     "name": "stdout",
     "output_type": "stream",
     "text": [
      "<class 'pandas.core.frame.DataFrame'>\n",
      "RangeIndex: 10000 entries, 0 to 9999\n",
      "Data columns (total 26 columns):\n",
      " #   Column                Non-Null Count  Dtype  \n",
      "---  ------                --------------  -----  \n",
      " 0   id                    10000 non-null  object \n",
      " 1   dateAdded             10000 non-null  object \n",
      " 2   dateUpdated           10000 non-null  object \n",
      " 3   address               10000 non-null  object \n",
      " 4   categories            10000 non-null  object \n",
      " 5   primaryCategories     10000 non-null  object \n",
      " 6   city                  10000 non-null  object \n",
      " 7   country               10000 non-null  object \n",
      " 8   keys                  10000 non-null  object \n",
      " 9   latitude              10000 non-null  float64\n",
      " 10  longitude             10000 non-null  float64\n",
      " 11  name                  10000 non-null  object \n",
      " 12  postalCode            10000 non-null  object \n",
      " 13  province              10000 non-null  object \n",
      " 14  reviews.date          10000 non-null  object \n",
      " 15  reviews.dateAdded     0 non-null      float64\n",
      " 16  reviews.dateSeen      10000 non-null  object \n",
      " 17  reviews.rating        10000 non-null  int64  \n",
      " 18  reviews.sourceURLs    10000 non-null  object \n",
      " 19  reviews.text          10000 non-null  object \n",
      " 20  reviews.title         9999 non-null   object \n",
      " 21  reviews.userCity      10000 non-null  object \n",
      " 22  reviews.userProvince  9998 non-null   object \n",
      " 23  reviews.username      10000 non-null  object \n",
      " 24  sourceURLs            10000 non-null  object \n",
      " 25  websites              10000 non-null  object \n",
      "dtypes: float64(3), int64(1), object(22)\n",
      "memory usage: 2.0+ MB\n"
     ]
    }
   ],
   "source": [
    "Hotel_df.info()"
   ]
  },
  {
   "cell_type": "code",
   "execution_count": null,
   "id": "UoTOI9NffhLB",
   "metadata": {
    "colab": {
     "base_uri": "https://localhost:8080/"
    },
    "id": "UoTOI9NffhLB",
    "outputId": "08674a7a-fccc-47e4-88a2-5646be360844"
   },
   "outputs": [
    {
     "data": {
      "text/plain": [
       "array([3, 4, 5, 2, 1])"
      ]
     },
     "execution_count": 41,
     "metadata": {},
     "output_type": "execute_result"
    }
   ],
   "source": [
    "Hotel_df['reviews.rating'].unique()"
   ]
  },
  {
   "cell_type": "code",
   "execution_count": null,
   "id": "WSmJxs6Wkk0J",
   "metadata": {
    "id": "WSmJxs6Wkk0J"
   },
   "outputs": [],
   "source": [
    "def rating_to_sentiment(rating):\n",
    "    if rating <= 2:\n",
    "        return 0  # Negative\n",
    "    elif rating == 3:\n",
    "        return 1  # Neutral\n",
    "    else:\n",
    "        return 2  # Positive"
   ]
  },
  {
   "cell_type": "code",
   "execution_count": null,
   "id": "9ytm5BY_kwuw",
   "metadata": {
    "id": "9ytm5BY_kwuw"
   },
   "outputs": [],
   "source": [
    "# Applying the function to the 'review.rating' column to create a new 'sentiment_label' column\n",
    "Hotel_df['sentiment_label'] = Hotel_df['reviews.rating'].apply(rating_to_sentiment)"
   ]
  },
  {
   "cell_type": "code",
   "execution_count": null,
   "id": "nPQgBFC1lDfv",
   "metadata": {
    "colab": {
     "base_uri": "https://localhost:8080/"
    },
    "id": "nPQgBFC1lDfv",
    "outputId": "6ff28347-63cf-4986-abf9-0992f8d72edd"
   },
   "outputs": [
    {
     "data": {
      "text/plain": [
       "array([1, 2, 0])"
      ]
     },
     "execution_count": 44,
     "metadata": {},
     "output_type": "execute_result"
    }
   ],
   "source": [
    "Hotel_df['sentiment_label'].unique()"
   ]
  },
  {
   "cell_type": "code",
   "execution_count": null,
   "id": "fGBZDeD4eMki",
   "metadata": {
    "id": "fGBZDeD4eMki"
   },
   "outputs": [],
   "source": [
    "# Map features to input format expected by BERT\n",
    "def map_features_to_model_inputs_pred(features):\n",
    "    inputs = {'input_ids': [], 'attention_mask': []}\n",
    "    for feature in features:\n",
    "        inputs['input_ids'].append(feature['input_ids'])\n",
    "        inputs['attention_mask'].append(feature['attention_mask'])\n",
    "    return inputs\n",
    "\n",
    "\n",
    "# Function to convert examples to BERT features for prediction\n",
    "def convert_example_to_feature_pred(review):\n",
    "    # Encode the text using the BERT tokenizer\n",
    "    encoding = tokenizer.encode_plus(\n",
    "        review,\n",
    "        add_special_tokens=True,  # Add [CLS] and [SEP]\n",
    "        max_length=512,          # Set maximum length to 512 tokens\n",
    "        truncation=True,         # Truncate examples longer than 512 tokens\n",
    "        padding='max_length',    # Pad shorter examples up to 512 tokens\n",
    "        return_attention_mask=True  # Generate attention mask\n",
    "    )\n",
    "    # Return a dictionary with the encoded features\n",
    "    return {\n",
    "        'input_ids': encoding['input_ids'],\n",
    "        'attention_mask': encoding['attention_mask']\n",
    "    }\n"
   ]
  },
  {
   "cell_type": "code",
   "execution_count": null,
   "id": "DCXZsoMLmywJ",
   "metadata": {
    "id": "DCXZsoMLmywJ"
   },
   "outputs": [],
   "source": [
    "# Converting the cleaned text to BERT features\n",
    "bert_features = [convert_example_to_feature_pred(text) for text in Hotel_df['reviews.text']]"
   ]
  },
  {
   "cell_type": "code",
   "execution_count": null,
   "id": "1KlXCaySeMnI",
   "metadata": {
    "colab": {
     "base_uri": "https://localhost:8080/"
    },
    "id": "1KlXCaySeMnI",
    "outputId": "b91dcc39-bcb8-458c-9a38-73aaf57dedc5"
   },
   "outputs": [
    {
     "name": "stdout",
     "output_type": "stream",
     "text": [
      "313/313 [==============================] - 30s 82ms/step\n"
     ]
    }
   ],
   "source": [
    "# Using the function to convert the new features to BERT input format\n",
    "new_inputs = map_features_to_model_inputs_pred(bert_features)\n",
    "\n",
    "# Converting inputs to tensors\n",
    "input_ids = tf.convert_to_tensor(new_inputs['input_ids'])\n",
    "attention_masks = tf.convert_to_tensor(new_inputs['attention_mask'])\n",
    "\n",
    "# Creating a TensorFlow dataset with batches\n",
    "new_dataset = tf.data.Dataset.from_tensor_slices((input_ids, attention_masks)).batch(32)\n",
    "\n",
    "predictions = model.predict(new_dataset)\n",
    "\n",
    "# Converting predictions to labels\n",
    "predicted_labels = np.argmax(predictions.logits, axis=1)\n",
    "\n",
    "# Adding predictions to the new dataframe\n",
    "Hotel_df['predicted_sentiment'] = predicted_labels\n",
    "\n",
    "# Mapping numeric predictions back to sentiment labels\n",
    "sentiment_label_mapping = {0: 'Negative', 1: 'Neutral', 2: 'Positive'}\n",
    "Hotel_df['predicted_sentiment_label'] = Hotel_df['predicted_sentiment'].map(sentiment_label_mapping)\n"
   ]
  },
  {
   "cell_type": "code",
   "execution_count": null,
   "id": "TXF64GIieMps",
   "metadata": {
    "colab": {
     "base_uri": "https://localhost:8080/"
    },
    "id": "TXF64GIieMps",
    "outputId": "6aff985c-5037-4ad4-c839-4828a20f52b9"
   },
   "outputs": [
    {
     "data": {
      "text/plain": [
       "array([2, 0, 1])"
      ]
     },
     "execution_count": 48,
     "metadata": {},
     "output_type": "execute_result"
    }
   ],
   "source": [
    "Hotel_df['predicted_sentiment'].unique()"
   ]
  },
  {
   "cell_type": "code",
   "execution_count": null,
   "id": "QBGmoKv4eMsT",
   "metadata": {
    "colab": {
     "base_uri": "https://localhost:8080/"
    },
    "id": "QBGmoKv4eMsT",
    "outputId": "5e5955a6-1e30-4b9e-be40-81feaa1fa9ad"
   },
   "outputs": [
    {
     "data": {
      "text/plain": [
       "array(['Positive', 'Negative', 'Neutral'], dtype=object)"
      ]
     },
     "execution_count": 49,
     "metadata": {},
     "output_type": "execute_result"
    }
   ],
   "source": [
    "Hotel_df['predicted_sentiment_label'].unique()"
   ]
  },
  {
   "cell_type": "code",
   "execution_count": null,
   "id": "9fiLx8Zrw5dS",
   "metadata": {
    "id": "9fiLx8Zrw5dS"
   },
   "outputs": [],
   "source": [
    "# Mapping from integer to string sentiment labels\n",
    "int_to_str_sentiment = {0: 'Negative', 1: 'Neutral', 2: 'Positive'}\n",
    "\n",
    "# Replacing integer labels with string labels in the DataFrame\n",
    "Hotel_df['sentiment_label'] = Hotel_df['sentiment_label'].replace(int_to_str_sentiment)"
   ]
  },
  {
   "cell_type": "code",
   "execution_count": null,
   "id": "IVJnfbujum2w",
   "metadata": {
    "id": "IVJnfbujum2w"
   },
   "outputs": [],
   "source": [
    "# Creating a cross-tabulation to compare actual and predicted sentiments\n",
    "comparison = pd.crosstab(Hotel_df['sentiment_label'], Hotel_df['predicted_sentiment_label'])\n",
    "\n",
    "accuracy = np.mean(Hotel_df['sentiment_label'] == Hotel_df['predicted_sentiment_label'])"
   ]
  },
  {
   "cell_type": "code",
   "execution_count": null,
   "id": "fLKU7SIpxTX-",
   "metadata": {
    "colab": {
     "base_uri": "https://localhost:8080/"
    },
    "id": "fLKU7SIpxTX-",
    "outputId": "ea5e86b0-aeb5-44a3-d80e-c9522edbc517"
   },
   "outputs": [
    {
     "name": "stdout",
     "output_type": "stream",
     "text": [
      "predicted_sentiment_label  Negative  Neutral  Positive\n",
      "sentiment_label                                       \n",
      "Negative                        171      636       314\n",
      "Neutral                          17      405       768\n",
      "Positive                          9      519      7161\n"
     ]
    }
   ],
   "source": [
    "print(comparison)"
   ]
  },
  {
   "cell_type": "code",
   "execution_count": null,
   "id": "52xCPNPhxTbL",
   "metadata": {
    "colab": {
     "base_uri": "https://localhost:8080/"
    },
    "id": "52xCPNPhxTbL",
    "outputId": "8589fc32-10ee-446c-d654-32d5c360ff88"
   },
   "outputs": [
    {
     "name": "stdout",
     "output_type": "stream",
     "text": [
      "Overall accuracy of sentiment prediction: 0.77\n"
     ]
    }
   ],
   "source": [
    "print(f\"Overall accuracy of sentiment prediction: {accuracy:.2f}\")"
   ]
  },
  {
   "cell_type": "code",
   "execution_count": null,
   "id": "pM_GRoBoum6j",
   "metadata": {
    "colab": {
     "base_uri": "https://localhost:8080/",
     "height": 641
    },
    "id": "pM_GRoBoum6j",
    "outputId": "d5eebce5-3953-4501-d0c0-c0c637113477"
   },
   "outputs": [
    {
     "data": {
      "image/png": "[encoded data removed]",
      "text/plain": [
       "<Figure size 1000x700 with 2 Axes>"
      ]
     },
     "metadata": {},
     "output_type": "display_data"
    }
   ],
   "source": [
    "# Plotting the confusion matrix\n",
    "plt.figure(figsize=(10, 7))\n",
    "sns.heatmap(comparison, annot=True, fmt='d', cmap='Blues')\n",
    "plt.title('Confusion Matrix')\n",
    "plt.xlabel('Predicted Sentiment Label')\n",
    "plt.ylabel('Actual Sentiment Label')\n",
    "plt.show()"
   ]
  },
  {
   "cell_type": "code",
   "execution_count": null,
   "id": "ZVwijmhDbdDf",
   "metadata": {
    "colab": {
     "base_uri": "https://localhost:8080/"
    },
    "id": "ZVwijmhDbdDf",
    "outputId": "fc3acf13-4dc0-4504-8aad-cb9483970863"
   },
   "outputs": [
    {
     "name": "stdout",
     "output_type": "stream",
     "text": [
      "Total time taken to run the script: 15155.85490822792 seconds\n"
     ]
    }
   ],
   "source": [
    "end_time = time.time()\n",
    "total_time = end_time - start_time\n",
    "print(f\"Total time taken to run the script: {total_time} seconds\")"
   ]
  }
 ],
 "metadata": {
  "accelerator": "TPU",
  "colab": {
   "machine_shape": "hm",
   "provenance": []
  },
  "kernelspec": {
   "display_name": "Python 3 (ipykernel)",
   "language": "python",
   "name": "python3"
  },
  "language_info": {
   "codemirror_mode": {
    "name": "ipython",
    "version": 3
   },
   "file_extension": ".py",
   "mimetype": "text/x-python",
   "name": "python",
   "nbconvert_exporter": "python",
   "pygments_lexer": "ipython3",
   "version": "3.11.5"
  },
  "widgets": {
   "application/vnd.jupyter.widget-state+json": {
    "128dadd0ef18409a96cf99169911a5c4": {
     "model_module": "@jupyter-widgets/controls",
     "model_module_version": "1.5.0",
     "model_name": "DescriptionStyleModel",
     "state": {
      "_model_module": "@jupyter-widgets/controls",
      "_model_module_version": "1.5.0",
      "_model_name": "DescriptionStyleModel",
      "_view_count": null,
      "_view_module": "@jupyter-widgets/base",
      "_view_module_version": "1.2.0",
      "_view_name": "StyleView",
      "description_width": ""
     }
    },
    "130e2b5cbeb34f3abbd59b50be981003": {
     "model_module": "@jupyter-widgets/controls",
     "model_module_version": "1.5.0",
     "model_name": "DescriptionStyleModel",
     "state": {
      "_model_module": "@jupyter-widgets/controls",
      "_model_module_version": "1.5.0",
      "_model_name": "DescriptionStyleModel",
      "_view_count": null,
      "_view_module": "@jupyter-widgets/base",
      "_view_module_version": "1.2.0",
      "_view_name": "StyleView",
      "description_width": ""
     }
    },
    "1794db84e92a47149980cc77df6a4b69": {
     "model_module": "@jupyter-widgets/controls",
     "model_module_version": "1.5.0",
     "model_name": "HBoxModel",
     "state": {
      "_dom_classes": [],
      "_model_module": "@jupyter-widgets/controls",
      "_model_module_version": "1.5.0",
      "_model_name": "HBoxModel",
      "_view_count": null,
      "_view_module": "@jupyter-widgets/controls",
      "_view_module_version": "1.5.0",
      "_view_name": "HBoxView",
      "box_style": "",
      "children": [
       "IPY_MODEL_d9b4af8bfae74a0f85d29806c72b611b",
       "IPY_MODEL_b087e7f2f2404c4da737907378213b73",
       "IPY_MODEL_72704de1c135464dada4145c8803164e"
      ],
      "layout": "IPY_MODEL_3ba8772ca9934d6086549c2ca07c2bf6"
     }
    },
    "1bd03243acbd4815a2d1969f7e2d1818": {
     "model_module": "@jupyter-widgets/base",
     "model_module_version": "1.2.0",
     "model_name": "LayoutModel",
     "state": {
      "_model_module": "@jupyter-widgets/base",
      "_model_module_version": "1.2.0",
      "_model_name": "LayoutModel",
      "_view_count": null,
      "_view_module": "@jupyter-widgets/base",
      "_view_module_version": "1.2.0",
      "_view_name": "LayoutView",
      "align_content": null,
      "align_items": null,
      "align_self": null,
      "border": null,
      "bottom": null,
      "display": null,
      "flex": null,
      "flex_flow": null,
      "grid_area": null,
      "grid_auto_columns": null,
      "grid_auto_flow": null,
      "grid_auto_rows": null,
      "grid_column": null,
      "grid_gap": null,
      "grid_row": null,
      "grid_template_areas": null,
      "grid_template_columns": null,
      "grid_template_rows": null,
      "height": null,
      "justify_content": null,
      "justify_items": null,
      "left": null,
      "margin": null,
      "max_height": null,
      "max_width": null,
      "min_height": null,
      "min_width": null,
      "object_fit": null,
      "object_position": null,
      "order": null,
      "overflow": null,
      "overflow_x": null,
      "overflow_y": null,
      "padding": null,
      "right": null,
      "top": null,
      "visibility": null,
      "width": null
     }
    },
    "205d58cdf4fe4c13aaa15909fa197e0a": {
     "model_module": "@jupyter-widgets/base",
     "model_module_version": "1.2.0",
     "model_name": "LayoutModel",
     "state": {
      "_model_module": "@jupyter-widgets/base",
      "_model_module_version": "1.2.0",
      "_model_name": "LayoutModel",
      "_view_count": null,
      "_view_module": "@jupyter-widgets/base",
      "_view_module_version": "1.2.0",
      "_view_name": "LayoutView",
      "align_content": null,
      "align_items": null,
      "align_self": null,
      "border": null,
      "bottom": null,
      "display": null,
      "flex": null,
      "flex_flow": null,
      "grid_area": null,
      "grid_auto_columns": null,
      "grid_auto_flow": null,
      "grid_auto_rows": null,
      "grid_column": null,
      "grid_gap": null,
      "grid_row": null,
      "grid_template_areas": null,
      "grid_template_columns": null,
      "grid_template_rows": null,
      "height": null,
      "justify_content": null,
      "justify_items": null,
      "left": null,
      "margin": null,
      "max_height": null,
      "max_width": null,
      "min_height": null,
      "min_width": null,
      "object_fit": null,
      "object_position": null,
      "order": null,
      "overflow": null,
      "overflow_x": null,
      "overflow_y": null,
      "padding": null,
      "right": null,
      "top": null,
      "visibility": null,
      "width": null
     }
    },
    "2f7b88b1c37c4ca083e091ff2df609e2": {
     "model_module": "@jupyter-widgets/controls",
     "model_module_version": "1.5.0",
     "model_name": "HTMLModel",
     "state": {
      "_dom_classes": [],
      "_model_module": "@jupyter-widgets/controls",
      "_model_module_version": "1.5.0",
      "_model_name": "HTMLModel",
      "_view_count": null,
      "_view_module": "@jupyter-widgets/controls",
      "_view_module_version": "1.5.0",
      "_view_name": "HTMLView",
      "description": "",
      "description_tooltip": null,
      "layout": "IPY_MODEL_43bc2c003a7849ff95a955cbe5e33050",
      "placeholder": "​",
      "style": "IPY_MODEL_30da2f7f868c43daab6567aed04fd0ab",
      "value": " 570/570 [00:00&lt;00:00, 51.6kB/s]"
     }
    },
    "30da2f7f868c43daab6567aed04fd0ab": {
     "model_module": "@jupyter-widgets/controls",
     "model_module_version": "1.5.0",
     "model_name": "DescriptionStyleModel",
     "state": {
      "_model_module": "@jupyter-widgets/controls",
      "_model_module_version": "1.5.0",
      "_model_name": "DescriptionStyleModel",
      "_view_count": null,
      "_view_module": "@jupyter-widgets/base",
      "_view_module_version": "1.2.0",
      "_view_name": "StyleView",
      "description_width": ""
     }
    },
    "34a1c46d81b043b6891192400ef373c1": {
     "model_module": "@jupyter-widgets/base",
     "model_module_version": "1.2.0",
     "model_name": "LayoutModel",
     "state": {
      "_model_module": "@jupyter-widgets/base",
      "_model_module_version": "1.2.0",
      "_model_name": "LayoutModel",
      "_view_count": null,
      "_view_module": "@jupyter-widgets/base",
      "_view_module_version": "1.2.0",
      "_view_name": "LayoutView",
      "align_content": null,
      "align_items": null,
      "align_self": null,
      "border": null,
      "bottom": null,
      "display": null,
      "flex": null,
      "flex_flow": null,
      "grid_area": null,
      "grid_auto_columns": null,
      "grid_auto_flow": null,
      "grid_auto_rows": null,
      "grid_column": null,
      "grid_gap": null,
      "grid_row": null,
      "grid_template_areas": null,
      "grid_template_columns": null,
      "grid_template_rows": null,
      "height": null,
      "justify_content": null,
      "justify_items": null,
      "left": null,
      "margin": null,
      "max_height": null,
      "max_width": null,
      "min_height": null,
      "min_width": null,
      "object_fit": null,
      "object_position": null,
      "order": null,
      "overflow": null,
      "overflow_x": null,
      "overflow_y": null,
      "padding": null,
      "right": null,
      "top": null,
      "visibility": null,
      "width": null
     }
    },
    "34c8c1910c8e4390965355aa56b0febd": {
     "model_module": "@jupyter-widgets/controls",
     "model_module_version": "1.5.0",
     "model_name": "HTMLModel",
     "state": {
      "_dom_classes": [],
      "_model_module": "@jupyter-widgets/controls",
      "_model_module_version": "1.5.0",
      "_model_name": "HTMLModel",
      "_view_count": null,
      "_view_module": "@jupyter-widgets/controls",
      "_view_module_version": "1.5.0",
      "_view_name": "HTMLView",
      "description": "",
      "description_tooltip": null,
      "layout": "IPY_MODEL_f3aca9570a214a16b6c9e55bec44e011",
      "placeholder": "​",
      "style": "IPY_MODEL_736cd74fb5b3456a969bd31eb3135dc3",
      "value": "vocab.txt: 100%"
     }
    },
    "3ba8772ca9934d6086549c2ca07c2bf6": {
     "model_module": "@jupyter-widgets/base",
     "model_module_version": "1.2.0",
     "model_name": "LayoutModel",
     "state": {
      "_model_module": "@jupyter-widgets/base",
      "_model_module_version": "1.2.0",
      "_model_name": "LayoutModel",
      "_view_count": null,
      "_view_module": "@jupyter-widgets/base",
      "_view_module_version": "1.2.0",
      "_view_name": "LayoutView",
      "align_content": null,
      "align_items": null,
      "align_self": null,
      "border": null,
      "bottom": null,
      "display": null,
      "flex": null,
      "flex_flow": null,
      "grid_area": null,
      "grid_auto_columns": null,
      "grid_auto_flow": null,
      "grid_auto_rows": null,
      "grid_column": null,
      "grid_gap": null,
      "grid_row": null,
      "grid_template_areas": null,
      "grid_template_columns": null,
      "grid_template_rows": null,
      "height": null,
      "justify_content": null,
      "justify_items": null,
      "left": null,
      "margin": null,
      "max_height": null,
      "max_width": null,
      "min_height": null,
      "min_width": null,
      "object_fit": null,
      "object_position": null,
      "order": null,
      "overflow": null,
      "overflow_x": null,
      "overflow_y": null,
      "padding": null,
      "right": null,
      "top": null,
      "visibility": null,
      "width": null
     }
    },
    "3e136cb473ba4a318b5df2b79eec9571": {
     "model_module": "@jupyter-widgets/controls",
     "model_module_version": "1.5.0",
     "model_name": "DescriptionStyleModel",
     "state": {
      "_model_module": "@jupyter-widgets/controls",
      "_model_module_version": "1.5.0",
      "_model_name": "DescriptionStyleModel",
      "_view_count": null,
      "_view_module": "@jupyter-widgets/base",
      "_view_module_version": "1.2.0",
      "_view_name": "StyleView",
      "description_width": ""
     }
    },
    "43bc2c003a7849ff95a955cbe5e33050": {
     "model_module": "@jupyter-widgets/base",
     "model_module_version": "1.2.0",
     "model_name": "LayoutModel",
     "state": {
      "_model_module": "@jupyter-widgets/base",
      "_model_module_version": "1.2.0",
      "_model_name": "LayoutModel",
      "_view_count": null,
      "_view_module": "@jupyter-widgets/base",
      "_view_module_version": "1.2.0",
      "_view_name": "LayoutView",
      "align_content": null,
      "align_items": null,
      "align_self": null,
      "border": null,
      "bottom": null,
      "display": null,
      "flex": null,
      "flex_flow": null,
      "grid_area": null,
      "grid_auto_columns": null,
      "grid_auto_flow": null,
      "grid_auto_rows": null,
      "grid_column": null,
      "grid_gap": null,
      "grid_row": null,
      "grid_template_areas": null,
      "grid_template_columns": null,
      "grid_template_rows": null,
      "height": null,
      "justify_content": null,
      "justify_items": null,
      "left": null,
      "margin": null,
      "max_height": null,
      "max_width": null,
      "min_height": null,
      "min_width": null,
      "object_fit": null,
      "object_position": null,
      "order": null,
      "overflow": null,
      "overflow_x": null,
      "overflow_y": null,
      "padding": null,
      "right": null,
      "top": null,
      "visibility": null,
      "width": null
     }
    },
    "4457e01331b343819da3ac9d083e510f": {
     "model_module": "@jupyter-widgets/controls",
     "model_module_version": "1.5.0",
     "model_name": "FloatProgressModel",
     "state": {
      "_dom_classes": [],
      "_model_module": "@jupyter-widgets/controls",
      "_model_module_version": "1.5.0",
      "_model_name": "FloatProgressModel",
      "_view_count": null,
      "_view_module": "@jupyter-widgets/controls",
      "_view_module_version": "1.5.0",
      "_view_name": "ProgressView",
      "bar_style": "success",
      "description": "",
      "description_tooltip": null,
      "layout": "IPY_MODEL_e3352ad4fb604b579fd4f9d8e875d661",
      "max": 440449768,
      "min": 0,
      "orientation": "horizontal",
      "style": "IPY_MODEL_9b7d1d6572ac41f7aea6b9ce2a892e81",
      "value": 440449768
     }
    },
    "46e3e2d646ec41d188d1ec0ec7e46e89": {
     "model_module": "@jupyter-widgets/base",
     "model_module_version": "1.2.0",
     "model_name": "LayoutModel",
     "state": {
      "_model_module": "@jupyter-widgets/base",
      "_model_module_version": "1.2.0",
      "_model_name": "LayoutModel",
      "_view_count": null,
      "_view_module": "@jupyter-widgets/base",
      "_view_module_version": "1.2.0",
      "_view_name": "LayoutView",
      "align_content": null,
      "align_items": null,
      "align_self": null,
      "border": null,
      "bottom": null,
      "display": null,
      "flex": null,
      "flex_flow": null,
      "grid_area": null,
      "grid_auto_columns": null,
      "grid_auto_flow": null,
      "grid_auto_rows": null,
      "grid_column": null,
      "grid_gap": null,
      "grid_row": null,
      "grid_template_areas": null,
      "grid_template_columns": null,
      "grid_template_rows": null,
      "height": null,
      "justify_content": null,
      "justify_items": null,
      "left": null,
      "margin": null,
      "max_height": null,
      "max_width": null,
      "min_height": null,
      "min_width": null,
      "object_fit": null,
      "object_position": null,
      "order": null,
      "overflow": null,
      "overflow_x": null,
      "overflow_y": null,
      "padding": null,
      "right": null,
      "top": null,
      "visibility": null,
      "width": null
     }
    },
    "4b824ef600e341bd97c30946b216da76": {
     "model_module": "@jupyter-widgets/base",
     "model_module_version": "1.2.0",
     "model_name": "LayoutModel",
     "state": {
      "_model_module": "@jupyter-widgets/base",
      "_model_module_version": "1.2.0",
      "_model_name": "LayoutModel",
      "_view_count": null,
      "_view_module": "@jupyter-widgets/base",
      "_view_module_version": "1.2.0",
      "_view_name": "LayoutView",
      "align_content": null,
      "align_items": null,
      "align_self": null,
      "border": null,
      "bottom": null,
      "display": null,
      "flex": null,
      "flex_flow": null,
      "grid_area": null,
      "grid_auto_columns": null,
      "grid_auto_flow": null,
      "grid_auto_rows": null,
      "grid_column": null,
      "grid_gap": null,
      "grid_row": null,
      "grid_template_areas": null,
      "grid_template_columns": null,
      "grid_template_rows": null,
      "height": null,
      "justify_content": null,
      "justify_items": null,
      "left": null,
      "margin": null,
      "max_height": null,
      "max_width": null,
      "min_height": null,
      "min_width": null,
      "object_fit": null,
      "object_position": null,
      "order": null,
      "overflow": null,
      "overflow_x": null,
      "overflow_y": null,
      "padding": null,
      "right": null,
      "top": null,
      "visibility": null,
      "width": null
     }
    },
    "52197a177e914540b8ce03e8cc75e970": {
     "model_module": "@jupyter-widgets/controls",
     "model_module_version": "1.5.0",
     "model_name": "DescriptionStyleModel",
     "state": {
      "_model_module": "@jupyter-widgets/controls",
      "_model_module_version": "1.5.0",
      "_model_name": "DescriptionStyleModel",
      "_view_count": null,
      "_view_module": "@jupyter-widgets/base",
      "_view_module_version": "1.2.0",
      "_view_name": "StyleView",
      "description_width": ""
     }
    },
    "5aa543727571445c9d9e52cf89fe98c9": {
     "model_module": "@jupyter-widgets/base",
     "model_module_version": "1.2.0",
     "model_name": "LayoutModel",
     "state": {
      "_model_module": "@jupyter-widgets/base",
      "_model_module_version": "1.2.0",
      "_model_name": "LayoutModel",
      "_view_count": null,
      "_view_module": "@jupyter-widgets/base",
      "_view_module_version": "1.2.0",
      "_view_name": "LayoutView",
      "align_content": null,
      "align_items": null,
      "align_self": null,
      "border": null,
      "bottom": null,
      "display": null,
      "flex": null,
      "flex_flow": null,
      "grid_area": null,
      "grid_auto_columns": null,
      "grid_auto_flow": null,
      "grid_auto_rows": null,
      "grid_column": null,
      "grid_gap": null,
      "grid_row": null,
      "grid_template_areas": null,
      "grid_template_columns": null,
      "grid_template_rows": null,
      "height": null,
      "justify_content": null,
      "justify_items": null,
      "left": null,
      "margin": null,
      "max_height": null,
      "max_width": null,
      "min_height": null,
      "min_width": null,
      "object_fit": null,
      "object_position": null,
      "order": null,
      "overflow": null,
      "overflow_x": null,
      "overflow_y": null,
      "padding": null,
      "right": null,
      "top": null,
      "visibility": null,
      "width": null
     }
    },
    "5e6c0ba16a394e788b5c7d8cffd61592": {
     "model_module": "@jupyter-widgets/base",
     "model_module_version": "1.2.0",
     "model_name": "LayoutModel",
     "state": {
      "_model_module": "@jupyter-widgets/base",
      "_model_module_version": "1.2.0",
      "_model_name": "LayoutModel",
      "_view_count": null,
      "_view_module": "@jupyter-widgets/base",
      "_view_module_version": "1.2.0",
      "_view_name": "LayoutView",
      "align_content": null,
      "align_items": null,
      "align_self": null,
      "border": null,
      "bottom": null,
      "display": null,
      "flex": null,
      "flex_flow": null,
      "grid_area": null,
      "grid_auto_columns": null,
      "grid_auto_flow": null,
      "grid_auto_rows": null,
      "grid_column": null,
      "grid_gap": null,
      "grid_row": null,
      "grid_template_areas": null,
      "grid_template_columns": null,
      "grid_template_rows": null,
      "height": null,
      "justify_content": null,
      "justify_items": null,
      "left": null,
      "margin": null,
      "max_height": null,
      "max_width": null,
      "min_height": null,
      "min_width": null,
      "object_fit": null,
      "object_position": null,
      "order": null,
      "overflow": null,
      "overflow_x": null,
      "overflow_y": null,
      "padding": null,
      "right": null,
      "top": null,
      "visibility": null,
      "width": null
     }
    },
    "62d8c7ddd20b441e83b8536cd796093f": {
     "model_module": "@jupyter-widgets/controls",
     "model_module_version": "1.5.0",
     "model_name": "ProgressStyleModel",
     "state": {
      "_model_module": "@jupyter-widgets/controls",
      "_model_module_version": "1.5.0",
      "_model_name": "ProgressStyleModel",
      "_view_count": null,
      "_view_module": "@jupyter-widgets/base",
      "_view_module_version": "1.2.0",
      "_view_name": "StyleView",
      "bar_color": null,
      "description_width": ""
     }
    },
    "67240e85fea0401fa74ce6e1e0e37340": {
     "model_module": "@jupyter-widgets/base",
     "model_module_version": "1.2.0",
     "model_name": "LayoutModel",
     "state": {
      "_model_module": "@jupyter-widgets/base",
      "_model_module_version": "1.2.0",
      "_model_name": "LayoutModel",
      "_view_count": null,
      "_view_module": "@jupyter-widgets/base",
      "_view_module_version": "1.2.0",
      "_view_name": "LayoutView",
      "align_content": null,
      "align_items": null,
      "align_self": null,
      "border": null,
      "bottom": null,
      "display": null,
      "flex": null,
      "flex_flow": null,
      "grid_area": null,
      "grid_auto_columns": null,
      "grid_auto_flow": null,
      "grid_auto_rows": null,
      "grid_column": null,
      "grid_gap": null,
      "grid_row": null,
      "grid_template_areas": null,
      "grid_template_columns": null,
      "grid_template_rows": null,
      "height": null,
      "justify_content": null,
      "justify_items": null,
      "left": null,
      "margin": null,
      "max_height": null,
      "max_width": null,
      "min_height": null,
      "min_width": null,
      "object_fit": null,
      "object_position": null,
      "order": null,
      "overflow": null,
      "overflow_x": null,
      "overflow_y": null,
      "padding": null,
      "right": null,
      "top": null,
      "visibility": null,
      "width": null
     }
    },
    "6b411dc787324fc7bdc36aa9640cb607": {
     "model_module": "@jupyter-widgets/controls",
     "model_module_version": "1.5.0",
     "model_name": "DescriptionStyleModel",
     "state": {
      "_model_module": "@jupyter-widgets/controls",
      "_model_module_version": "1.5.0",
      "_model_name": "DescriptionStyleModel",
      "_view_count": null,
      "_view_module": "@jupyter-widgets/base",
      "_view_module_version": "1.2.0",
      "_view_name": "StyleView",
      "description_width": ""
     }
    },
    "6e40301e04cb475bb00909b61497627f": {
     "model_module": "@jupyter-widgets/controls",
     "model_module_version": "1.5.0",
     "model_name": "FloatProgressModel",
     "state": {
      "_dom_classes": [],
      "_model_module": "@jupyter-widgets/controls",
      "_model_module_version": "1.5.0",
      "_model_name": "FloatProgressModel",
      "_view_count": null,
      "_view_module": "@jupyter-widgets/controls",
      "_view_module_version": "1.5.0",
      "_view_name": "ProgressView",
      "bar_style": "success",
      "description": "",
      "description_tooltip": null,
      "layout": "IPY_MODEL_4b824ef600e341bd97c30946b216da76",
      "max": 570,
      "min": 0,
      "orientation": "horizontal",
      "style": "IPY_MODEL_ec1e523217834d13a67f6b08f776b6bc",
      "value": 570
     }
    },
    "7010d26dca7546d69c5b458ff82ae7eb": {
     "model_module": "@jupyter-widgets/controls",
     "model_module_version": "1.5.0",
     "model_name": "HBoxModel",
     "state": {
      "_dom_classes": [],
      "_model_module": "@jupyter-widgets/controls",
      "_model_module_version": "1.5.0",
      "_model_name": "HBoxModel",
      "_view_count": null,
      "_view_module": "@jupyter-widgets/controls",
      "_view_module_version": "1.5.0",
      "_view_name": "HBoxView",
      "box_style": "",
      "children": [
       "IPY_MODEL_9e7b076e9db342abb7b9dfd573ba31a3",
       "IPY_MODEL_80106707ddc9415f9f8c5af5715093c1",
       "IPY_MODEL_e994414a7f9a4ab8990ac0b15605b207"
      ],
      "layout": "IPY_MODEL_946c5f5cba5e448ba088aa2ff7b5cb32"
     }
    },
    "72704de1c135464dada4145c8803164e": {
     "model_module": "@jupyter-widgets/controls",
     "model_module_version": "1.5.0",
     "model_name": "HTMLModel",
     "state": {
      "_dom_classes": [],
      "_model_module": "@jupyter-widgets/controls",
      "_model_module_version": "1.5.0",
      "_model_name": "HTMLModel",
      "_view_count": null,
      "_view_module": "@jupyter-widgets/controls",
      "_view_module_version": "1.5.0",
      "_view_name": "HTMLView",
      "description": "",
      "description_tooltip": null,
      "layout": "IPY_MODEL_34a1c46d81b043b6891192400ef373c1",
      "placeholder": "​",
      "style": "IPY_MODEL_3e136cb473ba4a318b5df2b79eec9571",
      "value": " 28.0/28.0 [00:00&lt;00:00, 2.26kB/s]"
     }
    },
    "736cd74fb5b3456a969bd31eb3135dc3": {
     "model_module": "@jupyter-widgets/controls",
     "model_module_version": "1.5.0",
     "model_name": "DescriptionStyleModel",
     "state": {
      "_model_module": "@jupyter-widgets/controls",
      "_model_module_version": "1.5.0",
      "_model_name": "DescriptionStyleModel",
      "_view_count": null,
      "_view_module": "@jupyter-widgets/base",
      "_view_module_version": "1.2.0",
      "_view_name": "StyleView",
      "description_width": ""
     }
    },
    "793eee980a3e4d99b58da68a4ec98dea": {
     "model_module": "@jupyter-widgets/controls",
     "model_module_version": "1.5.0",
     "model_name": "DescriptionStyleModel",
     "state": {
      "_model_module": "@jupyter-widgets/controls",
      "_model_module_version": "1.5.0",
      "_model_name": "DescriptionStyleModel",
      "_view_count": null,
      "_view_module": "@jupyter-widgets/base",
      "_view_module_version": "1.2.0",
      "_view_name": "StyleView",
      "description_width": ""
     }
    },
    "80106707ddc9415f9f8c5af5715093c1": {
     "model_module": "@jupyter-widgets/controls",
     "model_module_version": "1.5.0",
     "model_name": "FloatProgressModel",
     "state": {
      "_dom_classes": [],
      "_model_module": "@jupyter-widgets/controls",
      "_model_module_version": "1.5.0",
      "_model_name": "FloatProgressModel",
      "_view_count": null,
      "_view_module": "@jupyter-widgets/controls",
      "_view_module_version": "1.5.0",
      "_view_name": "ProgressView",
      "bar_style": "success",
      "description": "",
      "description_tooltip": null,
      "layout": "IPY_MODEL_46e3e2d646ec41d188d1ec0ec7e46e89",
      "max": 466062,
      "min": 0,
      "orientation": "horizontal",
      "style": "IPY_MODEL_d97c89eb0e8f400583b5476aac11df80",
      "value": 466062
     }
    },
    "8f451a99fd8c4f868b3a6aa7337a60cc": {
     "model_module": "@jupyter-widgets/base",
     "model_module_version": "1.2.0",
     "model_name": "LayoutModel",
     "state": {
      "_model_module": "@jupyter-widgets/base",
      "_model_module_version": "1.2.0",
      "_model_name": "LayoutModel",
      "_view_count": null,
      "_view_module": "@jupyter-widgets/base",
      "_view_module_version": "1.2.0",
      "_view_name": "LayoutView",
      "align_content": null,
      "align_items": null,
      "align_self": null,
      "border": null,
      "bottom": null,
      "display": null,
      "flex": null,
      "flex_flow": null,
      "grid_area": null,
      "grid_auto_columns": null,
      "grid_auto_flow": null,
      "grid_auto_rows": null,
      "grid_column": null,
      "grid_gap": null,
      "grid_row": null,
      "grid_template_areas": null,
      "grid_template_columns": null,
      "grid_template_rows": null,
      "height": null,
      "justify_content": null,
      "justify_items": null,
      "left": null,
      "margin": null,
      "max_height": null,
      "max_width": null,
      "min_height": null,
      "min_width": null,
      "object_fit": null,
      "object_position": null,
      "order": null,
      "overflow": null,
      "overflow_x": null,
      "overflow_y": null,
      "padding": null,
      "right": null,
      "top": null,
      "visibility": null,
      "width": null
     }
    },
    "8f716e70451749c1938ce461a84c7923": {
     "model_module": "@jupyter-widgets/base",
     "model_module_version": "1.2.0",
     "model_name": "LayoutModel",
     "state": {
      "_model_module": "@jupyter-widgets/base",
      "_model_module_version": "1.2.0",
      "_model_name": "LayoutModel",
      "_view_count": null,
      "_view_module": "@jupyter-widgets/base",
      "_view_module_version": "1.2.0",
      "_view_name": "LayoutView",
      "align_content": null,
      "align_items": null,
      "align_self": null,
      "border": null,
      "bottom": null,
      "display": null,
      "flex": null,
      "flex_flow": null,
      "grid_area": null,
      "grid_auto_columns": null,
      "grid_auto_flow": null,
      "grid_auto_rows": null,
      "grid_column": null,
      "grid_gap": null,
      "grid_row": null,
      "grid_template_areas": null,
      "grid_template_columns": null,
      "grid_template_rows": null,
      "height": null,
      "justify_content": null,
      "justify_items": null,
      "left": null,
      "margin": null,
      "max_height": null,
      "max_width": null,
      "min_height": null,
      "min_width": null,
      "object_fit": null,
      "object_position": null,
      "order": null,
      "overflow": null,
      "overflow_x": null,
      "overflow_y": null,
      "padding": null,
      "right": null,
      "top": null,
      "visibility": null,
      "width": null
     }
    },
    "946c5f5cba5e448ba088aa2ff7b5cb32": {
     "model_module": "@jupyter-widgets/base",
     "model_module_version": "1.2.0",
     "model_name": "LayoutModel",
     "state": {
      "_model_module": "@jupyter-widgets/base",
      "_model_module_version": "1.2.0",
      "_model_name": "LayoutModel",
      "_view_count": null,
      "_view_module": "@jupyter-widgets/base",
      "_view_module_version": "1.2.0",
      "_view_name": "LayoutView",
      "align_content": null,
      "align_items": null,
      "align_self": null,
      "border": null,
      "bottom": null,
      "display": null,
      "flex": null,
      "flex_flow": null,
      "grid_area": null,
      "grid_auto_columns": null,
      "grid_auto_flow": null,
      "grid_auto_rows": null,
      "grid_column": null,
      "grid_gap": null,
      "grid_row": null,
      "grid_template_areas": null,
      "grid_template_columns": null,
      "grid_template_rows": null,
      "height": null,
      "justify_content": null,
      "justify_items": null,
      "left": null,
      "margin": null,
      "max_height": null,
      "max_width": null,
      "min_height": null,
      "min_width": null,
      "object_fit": null,
      "object_position": null,
      "order": null,
      "overflow": null,
      "overflow_x": null,
      "overflow_y": null,
      "padding": null,
      "right": null,
      "top": null,
      "visibility": null,
      "width": null
     }
    },
    "9655fe00de054d12bdd9faa763559c25": {
     "model_module": "@jupyter-widgets/controls",
     "model_module_version": "1.5.0",
     "model_name": "HTMLModel",
     "state": {
      "_dom_classes": [],
      "_model_module": "@jupyter-widgets/controls",
      "_model_module_version": "1.5.0",
      "_model_name": "HTMLModel",
      "_view_count": null,
      "_view_module": "@jupyter-widgets/controls",
      "_view_module_version": "1.5.0",
      "_view_name": "HTMLView",
      "description": "",
      "description_tooltip": null,
      "layout": "IPY_MODEL_d59ceb8037bc4201a3fa4a9964afcaec",
      "placeholder": "​",
      "style": "IPY_MODEL_6b411dc787324fc7bdc36aa9640cb607",
      "value": "config.json: 100%"
     }
    },
    "9b7d1d6572ac41f7aea6b9ce2a892e81": {
     "model_module": "@jupyter-widgets/controls",
     "model_module_version": "1.5.0",
     "model_name": "ProgressStyleModel",
     "state": {
      "_model_module": "@jupyter-widgets/controls",
      "_model_module_version": "1.5.0",
      "_model_name": "ProgressStyleModel",
      "_view_count": null,
      "_view_module": "@jupyter-widgets/base",
      "_view_module_version": "1.2.0",
      "_view_name": "StyleView",
      "bar_color": null,
      "description_width": ""
     }
    },
    "9e7b076e9db342abb7b9dfd573ba31a3": {
     "model_module": "@jupyter-widgets/controls",
     "model_module_version": "1.5.0",
     "model_name": "HTMLModel",
     "state": {
      "_dom_classes": [],
      "_model_module": "@jupyter-widgets/controls",
      "_model_module_version": "1.5.0",
      "_model_name": "HTMLModel",
      "_view_count": null,
      "_view_module": "@jupyter-widgets/controls",
      "_view_module_version": "1.5.0",
      "_view_name": "HTMLView",
      "description": "",
      "description_tooltip": null,
      "layout": "IPY_MODEL_205d58cdf4fe4c13aaa15909fa197e0a",
      "placeholder": "​",
      "style": "IPY_MODEL_52197a177e914540b8ce03e8cc75e970",
      "value": "tokenizer.json: 100%"
     }
    },
    "a5d17709f41a4825884e3b04783c92d5": {
     "model_module": "@jupyter-widgets/controls",
     "model_module_version": "1.5.0",
     "model_name": "DescriptionStyleModel",
     "state": {
      "_model_module": "@jupyter-widgets/controls",
      "_model_module_version": "1.5.0",
      "_model_name": "DescriptionStyleModel",
      "_view_count": null,
      "_view_module": "@jupyter-widgets/base",
      "_view_module_version": "1.2.0",
      "_view_name": "StyleView",
      "description_width": ""
     }
    },
    "b087e7f2f2404c4da737907378213b73": {
     "model_module": "@jupyter-widgets/controls",
     "model_module_version": "1.5.0",
     "model_name": "FloatProgressModel",
     "state": {
      "_dom_classes": [],
      "_model_module": "@jupyter-widgets/controls",
      "_model_module_version": "1.5.0",
      "_model_name": "FloatProgressModel",
      "_view_count": null,
      "_view_module": "@jupyter-widgets/controls",
      "_view_module_version": "1.5.0",
      "_view_name": "ProgressView",
      "bar_style": "success",
      "description": "",
      "description_tooltip": null,
      "layout": "IPY_MODEL_e7e35e3012eb4cb1b93b5aee54f0fc5d",
      "max": 28,
      "min": 0,
      "orientation": "horizontal",
      "style": "IPY_MODEL_b4ca0784f3ab439b9da4937754d53a88",
      "value": 28
     }
    },
    "b22380587bb140809a4a7f6a93764b68": {
     "model_module": "@jupyter-widgets/controls",
     "model_module_version": "1.5.0",
     "model_name": "DescriptionStyleModel",
     "state": {
      "_model_module": "@jupyter-widgets/controls",
      "_model_module_version": "1.5.0",
      "_model_name": "DescriptionStyleModel",
      "_view_count": null,
      "_view_module": "@jupyter-widgets/base",
      "_view_module_version": "1.2.0",
      "_view_name": "StyleView",
      "description_width": ""
     }
    },
    "b4ca0784f3ab439b9da4937754d53a88": {
     "model_module": "@jupyter-widgets/controls",
     "model_module_version": "1.5.0",
     "model_name": "ProgressStyleModel",
     "state": {
      "_model_module": "@jupyter-widgets/controls",
      "_model_module_version": "1.5.0",
      "_model_name": "ProgressStyleModel",
      "_view_count": null,
      "_view_module": "@jupyter-widgets/base",
      "_view_module_version": "1.2.0",
      "_view_name": "StyleView",
      "bar_color": null,
      "description_width": ""
     }
    },
    "bf6d15ead2ec4661b4ed9bdb8e3e065a": {
     "model_module": "@jupyter-widgets/base",
     "model_module_version": "1.2.0",
     "model_name": "LayoutModel",
     "state": {
      "_model_module": "@jupyter-widgets/base",
      "_model_module_version": "1.2.0",
      "_model_name": "LayoutModel",
      "_view_count": null,
      "_view_module": "@jupyter-widgets/base",
      "_view_module_version": "1.2.0",
      "_view_name": "LayoutView",
      "align_content": null,
      "align_items": null,
      "align_self": null,
      "border": null,
      "bottom": null,
      "display": null,
      "flex": null,
      "flex_flow": null,
      "grid_area": null,
      "grid_auto_columns": null,
      "grid_auto_flow": null,
      "grid_auto_rows": null,
      "grid_column": null,
      "grid_gap": null,
      "grid_row": null,
      "grid_template_areas": null,
      "grid_template_columns": null,
      "grid_template_rows": null,
      "height": null,
      "justify_content": null,
      "justify_items": null,
      "left": null,
      "margin": null,
      "max_height": null,
      "max_width": null,
      "min_height": null,
      "min_width": null,
      "object_fit": null,
      "object_position": null,
      "order": null,
      "overflow": null,
      "overflow_x": null,
      "overflow_y": null,
      "padding": null,
      "right": null,
      "top": null,
      "visibility": null,
      "width": null
     }
    },
    "cc722f1d2a54496696b6c6e51e7639b2": {
     "model_module": "@jupyter-widgets/controls",
     "model_module_version": "1.5.0",
     "model_name": "HTMLModel",
     "state": {
      "_dom_classes": [],
      "_model_module": "@jupyter-widgets/controls",
      "_model_module_version": "1.5.0",
      "_model_name": "HTMLModel",
      "_view_count": null,
      "_view_module": "@jupyter-widgets/controls",
      "_view_module_version": "1.5.0",
      "_view_name": "HTMLView",
      "description": "",
      "description_tooltip": null,
      "layout": "IPY_MODEL_8f451a99fd8c4f868b3a6aa7337a60cc",
      "placeholder": "​",
      "style": "IPY_MODEL_a5d17709f41a4825884e3b04783c92d5",
      "value": " 232k/232k [00:00&lt;00:00, 5.21MB/s]"
     }
    },
    "d25fdbd667444b30832a24def3243b89": {
     "model_module": "@jupyter-widgets/base",
     "model_module_version": "1.2.0",
     "model_name": "LayoutModel",
     "state": {
      "_model_module": "@jupyter-widgets/base",
      "_model_module_version": "1.2.0",
      "_model_name": "LayoutModel",
      "_view_count": null,
      "_view_module": "@jupyter-widgets/base",
      "_view_module_version": "1.2.0",
      "_view_name": "LayoutView",
      "align_content": null,
      "align_items": null,
      "align_self": null,
      "border": null,
      "bottom": null,
      "display": null,
      "flex": null,
      "flex_flow": null,
      "grid_area": null,
      "grid_auto_columns": null,
      "grid_auto_flow": null,
      "grid_auto_rows": null,
      "grid_column": null,
      "grid_gap": null,
      "grid_row": null,
      "grid_template_areas": null,
      "grid_template_columns": null,
      "grid_template_rows": null,
      "height": null,
      "justify_content": null,
      "justify_items": null,
      "left": null,
      "margin": null,
      "max_height": null,
      "max_width": null,
      "min_height": null,
      "min_width": null,
      "object_fit": null,
      "object_position": null,
      "order": null,
      "overflow": null,
      "overflow_x": null,
      "overflow_y": null,
      "padding": null,
      "right": null,
      "top": null,
      "visibility": null,
      "width": null
     }
    },
    "d302faba2f6749e690ec7318105e78b0": {
     "model_module": "@jupyter-widgets/controls",
     "model_module_version": "1.5.0",
     "model_name": "HBoxModel",
     "state": {
      "_dom_classes": [],
      "_model_module": "@jupyter-widgets/controls",
      "_model_module_version": "1.5.0",
      "_model_name": "HBoxModel",
      "_view_count": null,
      "_view_module": "@jupyter-widgets/controls",
      "_view_module_version": "1.5.0",
      "_view_name": "HBoxView",
      "box_style": "",
      "children": [
       "IPY_MODEL_f1e0f139d7e04d8c8490ede3bc78be4b",
       "IPY_MODEL_4457e01331b343819da3ac9d083e510f",
       "IPY_MODEL_fbaaffaa1467489b909b7a6ca2e62de5"
      ],
      "layout": "IPY_MODEL_5e6c0ba16a394e788b5c7d8cffd61592"
     }
    },
    "d59ceb8037bc4201a3fa4a9964afcaec": {
     "model_module": "@jupyter-widgets/base",
     "model_module_version": "1.2.0",
     "model_name": "LayoutModel",
     "state": {
      "_model_module": "@jupyter-widgets/base",
      "_model_module_version": "1.2.0",
      "_model_name": "LayoutModel",
      "_view_count": null,
      "_view_module": "@jupyter-widgets/base",
      "_view_module_version": "1.2.0",
      "_view_name": "LayoutView",
      "align_content": null,
      "align_items": null,
      "align_self": null,
      "border": null,
      "bottom": null,
      "display": null,
      "flex": null,
      "flex_flow": null,
      "grid_area": null,
      "grid_auto_columns": null,
      "grid_auto_flow": null,
      "grid_auto_rows": null,
      "grid_column": null,
      "grid_gap": null,
      "grid_row": null,
      "grid_template_areas": null,
      "grid_template_columns": null,
      "grid_template_rows": null,
      "height": null,
      "justify_content": null,
      "justify_items": null,
      "left": null,
      "margin": null,
      "max_height": null,
      "max_width": null,
      "min_height": null,
      "min_width": null,
      "object_fit": null,
      "object_position": null,
      "order": null,
      "overflow": null,
      "overflow_x": null,
      "overflow_y": null,
      "padding": null,
      "right": null,
      "top": null,
      "visibility": null,
      "width": null
     }
    },
    "d97c89eb0e8f400583b5476aac11df80": {
     "model_module": "@jupyter-widgets/controls",
     "model_module_version": "1.5.0",
     "model_name": "ProgressStyleModel",
     "state": {
      "_model_module": "@jupyter-widgets/controls",
      "_model_module_version": "1.5.0",
      "_model_name": "ProgressStyleModel",
      "_view_count": null,
      "_view_module": "@jupyter-widgets/base",
      "_view_module_version": "1.2.0",
      "_view_name": "StyleView",
      "bar_color": null,
      "description_width": ""
     }
    },
    "d9b4af8bfae74a0f85d29806c72b611b": {
     "model_module": "@jupyter-widgets/controls",
     "model_module_version": "1.5.0",
     "model_name": "HTMLModel",
     "state": {
      "_dom_classes": [],
      "_model_module": "@jupyter-widgets/controls",
      "_model_module_version": "1.5.0",
      "_model_name": "HTMLModel",
      "_view_count": null,
      "_view_module": "@jupyter-widgets/controls",
      "_view_module_version": "1.5.0",
      "_view_name": "HTMLView",
      "description": "",
      "description_tooltip": null,
      "layout": "IPY_MODEL_bf6d15ead2ec4661b4ed9bdb8e3e065a",
      "placeholder": "​",
      "style": "IPY_MODEL_130e2b5cbeb34f3abbd59b50be981003",
      "value": "tokenizer_config.json: 100%"
     }
    },
    "db3c23939a9942bbb7be31df68be516a": {
     "model_module": "@jupyter-widgets/controls",
     "model_module_version": "1.5.0",
     "model_name": "FloatProgressModel",
     "state": {
      "_dom_classes": [],
      "_model_module": "@jupyter-widgets/controls",
      "_model_module_version": "1.5.0",
      "_model_name": "FloatProgressModel",
      "_view_count": null,
      "_view_module": "@jupyter-widgets/controls",
      "_view_module_version": "1.5.0",
      "_view_name": "ProgressView",
      "bar_style": "success",
      "description": "",
      "description_tooltip": null,
      "layout": "IPY_MODEL_67240e85fea0401fa74ce6e1e0e37340",
      "max": 231508,
      "min": 0,
      "orientation": "horizontal",
      "style": "IPY_MODEL_62d8c7ddd20b441e83b8536cd796093f",
      "value": 231508
     }
    },
    "e3352ad4fb604b579fd4f9d8e875d661": {
     "model_module": "@jupyter-widgets/base",
     "model_module_version": "1.2.0",
     "model_name": "LayoutModel",
     "state": {
      "_model_module": "@jupyter-widgets/base",
      "_model_module_version": "1.2.0",
      "_model_name": "LayoutModel",
      "_view_count": null,
      "_view_module": "@jupyter-widgets/base",
      "_view_module_version": "1.2.0",
      "_view_name": "LayoutView",
      "align_content": null,
      "align_items": null,
      "align_self": null,
      "border": null,
      "bottom": null,
      "display": null,
      "flex": null,
      "flex_flow": null,
      "grid_area": null,
      "grid_auto_columns": null,
      "grid_auto_flow": null,
      "grid_auto_rows": null,
      "grid_column": null,
      "grid_gap": null,
      "grid_row": null,
      "grid_template_areas": null,
      "grid_template_columns": null,
      "grid_template_rows": null,
      "height": null,
      "justify_content": null,
      "justify_items": null,
      "left": null,
      "margin": null,
      "max_height": null,
      "max_width": null,
      "min_height": null,
      "min_width": null,
      "object_fit": null,
      "object_position": null,
      "order": null,
      "overflow": null,
      "overflow_x": null,
      "overflow_y": null,
      "padding": null,
      "right": null,
      "top": null,
      "visibility": null,
      "width": null
     }
    },
    "e5fb1c2f2dd14fbe992b10c718f094c9": {
     "model_module": "@jupyter-widgets/base",
     "model_module_version": "1.2.0",
     "model_name": "LayoutModel",
     "state": {
      "_model_module": "@jupyter-widgets/base",
      "_model_module_version": "1.2.0",
      "_model_name": "LayoutModel",
      "_view_count": null,
      "_view_module": "@jupyter-widgets/base",
      "_view_module_version": "1.2.0",
      "_view_name": "LayoutView",
      "align_content": null,
      "align_items": null,
      "align_self": null,
      "border": null,
      "bottom": null,
      "display": null,
      "flex": null,
      "flex_flow": null,
      "grid_area": null,
      "grid_auto_columns": null,
      "grid_auto_flow": null,
      "grid_auto_rows": null,
      "grid_column": null,
      "grid_gap": null,
      "grid_row": null,
      "grid_template_areas": null,
      "grid_template_columns": null,
      "grid_template_rows": null,
      "height": null,
      "justify_content": null,
      "justify_items": null,
      "left": null,
      "margin": null,
      "max_height": null,
      "max_width": null,
      "min_height": null,
      "min_width": null,
      "object_fit": null,
      "object_position": null,
      "order": null,
      "overflow": null,
      "overflow_x": null,
      "overflow_y": null,
      "padding": null,
      "right": null,
      "top": null,
      "visibility": null,
      "width": null
     }
    },
    "e7e35e3012eb4cb1b93b5aee54f0fc5d": {
     "model_module": "@jupyter-widgets/base",
     "model_module_version": "1.2.0",
     "model_name": "LayoutModel",
     "state": {
      "_model_module": "@jupyter-widgets/base",
      "_model_module_version": "1.2.0",
      "_model_name": "LayoutModel",
      "_view_count": null,
      "_view_module": "@jupyter-widgets/base",
      "_view_module_version": "1.2.0",
      "_view_name": "LayoutView",
      "align_content": null,
      "align_items": null,
      "align_self": null,
      "border": null,
      "bottom": null,
      "display": null,
      "flex": null,
      "flex_flow": null,
      "grid_area": null,
      "grid_auto_columns": null,
      "grid_auto_flow": null,
      "grid_auto_rows": null,
      "grid_column": null,
      "grid_gap": null,
      "grid_row": null,
      "grid_template_areas": null,
      "grid_template_columns": null,
      "grid_template_rows": null,
      "height": null,
      "justify_content": null,
      "justify_items": null,
      "left": null,
      "margin": null,
      "max_height": null,
      "max_width": null,
      "min_height": null,
      "min_width": null,
      "object_fit": null,
      "object_position": null,
      "order": null,
      "overflow": null,
      "overflow_x": null,
      "overflow_y": null,
      "padding": null,
      "right": null,
      "top": null,
      "visibility": null,
      "width": null
     }
    },
    "e994414a7f9a4ab8990ac0b15605b207": {
     "model_module": "@jupyter-widgets/controls",
     "model_module_version": "1.5.0",
     "model_name": "HTMLModel",
     "state": {
      "_dom_classes": [],
      "_model_module": "@jupyter-widgets/controls",
      "_model_module_version": "1.5.0",
      "_model_name": "HTMLModel",
      "_view_count": null,
      "_view_module": "@jupyter-widgets/controls",
      "_view_module_version": "1.5.0",
      "_view_name": "HTMLView",
      "description": "",
      "description_tooltip": null,
      "layout": "IPY_MODEL_8f716e70451749c1938ce461a84c7923",
      "placeholder": "​",
      "style": "IPY_MODEL_793eee980a3e4d99b58da68a4ec98dea",
      "value": " 466k/466k [00:00&lt;00:00, 24.8MB/s]"
     }
    },
    "eb813d6179f94260833ccd222ec37eb3": {
     "model_module": "@jupyter-widgets/controls",
     "model_module_version": "1.5.0",
     "model_name": "HBoxModel",
     "state": {
      "_dom_classes": [],
      "_model_module": "@jupyter-widgets/controls",
      "_model_module_version": "1.5.0",
      "_model_name": "HBoxModel",
      "_view_count": null,
      "_view_module": "@jupyter-widgets/controls",
      "_view_module_version": "1.5.0",
      "_view_name": "HBoxView",
      "box_style": "",
      "children": [
       "IPY_MODEL_9655fe00de054d12bdd9faa763559c25",
       "IPY_MODEL_6e40301e04cb475bb00909b61497627f",
       "IPY_MODEL_2f7b88b1c37c4ca083e091ff2df609e2"
      ],
      "layout": "IPY_MODEL_e5fb1c2f2dd14fbe992b10c718f094c9"
     }
    },
    "eb8cf0055f7443feb2a8aaa80c5f9a62": {
     "model_module": "@jupyter-widgets/controls",
     "model_module_version": "1.5.0",
     "model_name": "HBoxModel",
     "state": {
      "_dom_classes": [],
      "_model_module": "@jupyter-widgets/controls",
      "_model_module_version": "1.5.0",
      "_model_name": "HBoxModel",
      "_view_count": null,
      "_view_module": "@jupyter-widgets/controls",
      "_view_module_version": "1.5.0",
      "_view_name": "HBoxView",
      "box_style": "",
      "children": [
       "IPY_MODEL_34c8c1910c8e4390965355aa56b0febd",
       "IPY_MODEL_db3c23939a9942bbb7be31df68be516a",
       "IPY_MODEL_cc722f1d2a54496696b6c6e51e7639b2"
      ],
      "layout": "IPY_MODEL_1bd03243acbd4815a2d1969f7e2d1818"
     }
    },
    "ec1e523217834d13a67f6b08f776b6bc": {
     "model_module": "@jupyter-widgets/controls",
     "model_module_version": "1.5.0",
     "model_name": "ProgressStyleModel",
     "state": {
      "_model_module": "@jupyter-widgets/controls",
      "_model_module_version": "1.5.0",
      "_model_name": "ProgressStyleModel",
      "_view_count": null,
      "_view_module": "@jupyter-widgets/base",
      "_view_module_version": "1.2.0",
      "_view_name": "StyleView",
      "bar_color": null,
      "description_width": ""
     }
    },
    "f1e0f139d7e04d8c8490ede3bc78be4b": {
     "model_module": "@jupyter-widgets/controls",
     "model_module_version": "1.5.0",
     "model_name": "HTMLModel",
     "state": {
      "_dom_classes": [],
      "_model_module": "@jupyter-widgets/controls",
      "_model_module_version": "1.5.0",
      "_model_name": "HTMLModel",
      "_view_count": null,
      "_view_module": "@jupyter-widgets/controls",
      "_view_module_version": "1.5.0",
      "_view_name": "HTMLView",
      "description": "",
      "description_tooltip": null,
      "layout": "IPY_MODEL_5aa543727571445c9d9e52cf89fe98c9",
      "placeholder": "​",
      "style": "IPY_MODEL_b22380587bb140809a4a7f6a93764b68",
      "value": "model.safetensors: 100%"
     }
    },
    "f3aca9570a214a16b6c9e55bec44e011": {
     "model_module": "@jupyter-widgets/base",
     "model_module_version": "1.2.0",
     "model_name": "LayoutModel",
     "state": {
      "_model_module": "@jupyter-widgets/base",
      "_model_module_version": "1.2.0",
      "_model_name": "LayoutModel",
      "_view_count": null,
      "_view_module": "@jupyter-widgets/base",
      "_view_module_version": "1.2.0",
      "_view_name": "LayoutView",
      "align_content": null,
      "align_items": null,
      "align_self": null,
      "border": null,
      "bottom": null,
      "display": null,
      "flex": null,
      "flex_flow": null,
      "grid_area": null,
      "grid_auto_columns": null,
      "grid_auto_flow": null,
      "grid_auto_rows": null,
      "grid_column": null,
      "grid_gap": null,
      "grid_row": null,
      "grid_template_areas": null,
      "grid_template_columns": null,
      "grid_template_rows": null,
      "height": null,
      "justify_content": null,
      "justify_items": null,
      "left": null,
      "margin": null,
      "max_height": null,
      "max_width": null,
      "min_height": null,
      "min_width": null,
      "object_fit": null,
      "object_position": null,
      "order": null,
      "overflow": null,
      "overflow_x": null,
      "overflow_y": null,
      "padding": null,
      "right": null,
      "top": null,
      "visibility": null,
      "width": null
     }
    },
    "fbaaffaa1467489b909b7a6ca2e62de5": {
     "model_module": "@jupyter-widgets/controls",
     "model_module_version": "1.5.0",
     "model_name": "HTMLModel",
     "state": {
      "_dom_classes": [],
      "_model_module": "@jupyter-widgets/controls",
      "_model_module_version": "1.5.0",
      "_model_name": "HTMLModel",
      "_view_count": null,
      "_view_module": "@jupyter-widgets/controls",
      "_view_module_version": "1.5.0",
      "_view_name": "HTMLView",
      "description": "",
      "description_tooltip": null,
      "layout": "IPY_MODEL_d25fdbd667444b30832a24def3243b89",
      "placeholder": "​",
      "style": "IPY_MODEL_128dadd0ef18409a96cf99169911a5c4",
      "value": " 440M/440M [00:03&lt;00:00, 88.4MB/s]"
     }
    }
   }
  }
 },
 "nbformat": 4,
 "nbformat_minor": 5
}
